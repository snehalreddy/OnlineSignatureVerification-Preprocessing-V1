{
 "cells": [
  {
   "cell_type": "markdown",
   "metadata": {},
   "source": [
    "# NumPy Introduction"
   ]
  },
  {
   "cell_type": "code",
   "execution_count": 1,
   "metadata": {},
   "outputs": [],
   "source": [
    "import numpy as np"
   ]
  },
  {
   "cell_type": "code",
   "execution_count": 2,
   "metadata": {},
   "outputs": [],
   "source": [
    "mylist = [1, 2, 3, 4, 5, 6]\n",
    "x = np.array(mylist)"
   ]
  },
  {
   "cell_type": "code",
   "execution_count": 3,
   "metadata": {},
   "outputs": [
    {
     "data": {
      "text/plain": [
       "array([1, 2, 3, 4, 5, 6])"
      ]
     },
     "execution_count": 3,
     "metadata": {},
     "output_type": "execute_result"
    }
   ],
   "source": [
    "x"
   ]
  },
  {
   "cell_type": "code",
   "execution_count": 4,
   "metadata": {},
   "outputs": [
    {
     "data": {
      "text/plain": [
       "array([3, 4, 5, 6, 7, 8])"
      ]
     },
     "execution_count": 4,
     "metadata": {},
     "output_type": "execute_result"
    }
   ],
   "source": [
    "mylist = [3, 4, 5, 6, 7, 8]\n",
    "y = np.array(mylist)\n",
    "y"
   ]
  },
  {
   "cell_type": "code",
   "execution_count": 5,
   "metadata": {},
   "outputs": [
    {
     "name": "stdout",
     "output_type": "stream",
     "text": [
      "[[1 2 3 4 5 6]\n",
      " [4 5 6 4 5 6]]\n"
     ]
    }
   ],
   "source": [
    "z = np.array([[1, 2, 3, 4, 5, 6], [4, 5, 6, 4, 5, 6]])\n",
    "print(z)"
   ]
  },
  {
   "cell_type": "code",
   "execution_count": 6,
   "metadata": {},
   "outputs": [
    {
     "data": {
      "text/plain": [
       "(2, 6)"
      ]
     },
     "execution_count": 6,
     "metadata": {},
     "output_type": "execute_result"
    }
   ],
   "source": [
    "np.shape(z)"
   ]
  },
  {
   "cell_type": "code",
   "execution_count": 7,
   "metadata": {},
   "outputs": [
    {
     "data": {
      "text/plain": [
       "array([  0,  10,  20,  30,  40,  50,  60,  70,  80,  90, 100, 110, 120,\n",
       "       130, 140, 150, 160, 170, 180, 190, 200, 210, 220, 230, 240, 250,\n",
       "       260, 270, 280, 290, 300, 310, 320, 330, 340, 350, 360, 370, 380,\n",
       "       390, 400, 410, 420, 430, 440, 450, 460, 470, 480, 490, 500, 510,\n",
       "       520, 530, 540, 550, 560, 570, 580, 590, 600, 610, 620, 630, 640,\n",
       "       650, 660, 670, 680, 690, 700, 710, 720, 730, 740, 750, 760, 770,\n",
       "       780, 790, 800, 810, 820, 830, 840, 850, 860, 870, 880, 890, 900,\n",
       "       910, 920, 930, 940, 950, 960, 970, 980, 990])"
      ]
     },
     "execution_count": 7,
     "metadata": {},
     "output_type": "execute_result"
    }
   ],
   "source": [
    "a = np.arange(0, 1000, 10)\n",
    "a"
   ]
  },
  {
   "cell_type": "code",
   "execution_count": 8,
   "metadata": {},
   "outputs": [],
   "source": [
    "a = a.reshape(25, 4)"
   ]
  },
  {
   "cell_type": "code",
   "execution_count": 9,
   "metadata": {},
   "outputs": [
    {
     "data": {
      "text/plain": [
       "array([[  0,  10,  20,  30],\n",
       "       [ 40,  50,  60,  70],\n",
       "       [ 80,  90, 100, 110],\n",
       "       [120, 130, 140, 150],\n",
       "       [160, 170, 180, 190],\n",
       "       [200, 210, 220, 230],\n",
       "       [240, 250, 260, 270],\n",
       "       [280, 290, 300, 310],\n",
       "       [320, 330, 340, 350],\n",
       "       [360, 370, 380, 390],\n",
       "       [400, 410, 420, 430],\n",
       "       [440, 450, 460, 470],\n",
       "       [480, 490, 500, 510],\n",
       "       [520, 530, 540, 550],\n",
       "       [560, 570, 580, 590],\n",
       "       [600, 610, 620, 630],\n",
       "       [640, 650, 660, 670],\n",
       "       [680, 690, 700, 710],\n",
       "       [720, 730, 740, 750],\n",
       "       [760, 770, 780, 790],\n",
       "       [800, 810, 820, 830],\n",
       "       [840, 850, 860, 870],\n",
       "       [880, 890, 900, 910],\n",
       "       [920, 930, 940, 950],\n",
       "       [960, 970, 980, 990]])"
      ]
     },
     "execution_count": 9,
     "metadata": {},
     "output_type": "execute_result"
    }
   ],
   "source": [
    "a"
   ]
  },
  {
   "cell_type": "code",
   "execution_count": 10,
   "metadata": {},
   "outputs": [
    {
     "data": {
      "text/plain": [
       "array([  0.        ,  10.09090909,  20.18181818,  30.27272727,\n",
       "        40.36363636,  50.45454545,  60.54545455,  70.63636364,\n",
       "        80.72727273,  90.81818182, 100.90909091, 111.        ,\n",
       "       121.09090909, 131.18181818, 141.27272727, 151.36363636,\n",
       "       161.45454545, 171.54545455, 181.63636364, 191.72727273,\n",
       "       201.81818182, 211.90909091, 222.        , 232.09090909,\n",
       "       242.18181818, 252.27272727, 262.36363636, 272.45454545,\n",
       "       282.54545455, 292.63636364, 302.72727273, 312.81818182,\n",
       "       322.90909091, 333.        , 343.09090909, 353.18181818,\n",
       "       363.27272727, 373.36363636, 383.45454545, 393.54545455,\n",
       "       403.63636364, 413.72727273, 423.81818182, 433.90909091,\n",
       "       444.        , 454.09090909, 464.18181818, 474.27272727,\n",
       "       484.36363636, 494.45454545, 504.54545455, 514.63636364,\n",
       "       524.72727273, 534.81818182, 544.90909091, 555.        ,\n",
       "       565.09090909, 575.18181818, 585.27272727, 595.36363636,\n",
       "       605.45454545, 615.54545455, 625.63636364, 635.72727273,\n",
       "       645.81818182, 655.90909091, 666.        , 676.09090909,\n",
       "       686.18181818, 696.27272727, 706.36363636, 716.45454545,\n",
       "       726.54545455, 736.63636364, 746.72727273, 756.81818182,\n",
       "       766.90909091, 777.        , 787.09090909, 797.18181818,\n",
       "       807.27272727, 817.36363636, 827.45454545, 837.54545455,\n",
       "       847.63636364, 857.72727273, 867.81818182, 877.90909091,\n",
       "       888.        , 898.09090909, 908.18181818, 918.27272727,\n",
       "       928.36363636, 938.45454545, 948.54545455, 958.63636364,\n",
       "       968.72727273, 978.81818182, 988.90909091, 999.        ])"
      ]
     },
     "execution_count": 10,
     "metadata": {},
     "output_type": "execute_result"
    }
   ],
   "source": [
    "o = np.linspace(0, 999, 100)\n",
    "o"
   ]
  },
  {
   "cell_type": "code",
   "execution_count": 11,
   "metadata": {},
   "outputs": [
    {
     "data": {
      "text/plain": [
       "(100,)"
      ]
     },
     "execution_count": 11,
     "metadata": {},
     "output_type": "execute_result"
    }
   ],
   "source": [
    "np.shape(o)"
   ]
  },
  {
   "cell_type": "code",
   "execution_count": 12,
   "metadata": {},
   "outputs": [],
   "source": [
    "o.resize(10, 10)"
   ]
  },
  {
   "cell_type": "code",
   "execution_count": 13,
   "metadata": {},
   "outputs": [
    {
     "data": {
      "text/plain": [
       "array([[  0.        ,  10.09090909,  20.18181818,  30.27272727,\n",
       "         40.36363636,  50.45454545,  60.54545455,  70.63636364,\n",
       "         80.72727273,  90.81818182],\n",
       "       [100.90909091, 111.        , 121.09090909, 131.18181818,\n",
       "        141.27272727, 151.36363636, 161.45454545, 171.54545455,\n",
       "        181.63636364, 191.72727273],\n",
       "       [201.81818182, 211.90909091, 222.        , 232.09090909,\n",
       "        242.18181818, 252.27272727, 262.36363636, 272.45454545,\n",
       "        282.54545455, 292.63636364],\n",
       "       [302.72727273, 312.81818182, 322.90909091, 333.        ,\n",
       "        343.09090909, 353.18181818, 363.27272727, 373.36363636,\n",
       "        383.45454545, 393.54545455],\n",
       "       [403.63636364, 413.72727273, 423.81818182, 433.90909091,\n",
       "        444.        , 454.09090909, 464.18181818, 474.27272727,\n",
       "        484.36363636, 494.45454545],\n",
       "       [504.54545455, 514.63636364, 524.72727273, 534.81818182,\n",
       "        544.90909091, 555.        , 565.09090909, 575.18181818,\n",
       "        585.27272727, 595.36363636],\n",
       "       [605.45454545, 615.54545455, 625.63636364, 635.72727273,\n",
       "        645.81818182, 655.90909091, 666.        , 676.09090909,\n",
       "        686.18181818, 696.27272727],\n",
       "       [706.36363636, 716.45454545, 726.54545455, 736.63636364,\n",
       "        746.72727273, 756.81818182, 766.90909091, 777.        ,\n",
       "        787.09090909, 797.18181818],\n",
       "       [807.27272727, 817.36363636, 827.45454545, 837.54545455,\n",
       "        847.63636364, 857.72727273, 867.81818182, 877.90909091,\n",
       "        888.        , 898.09090909],\n",
       "       [908.18181818, 918.27272727, 928.36363636, 938.45454545,\n",
       "        948.54545455, 958.63636364, 968.72727273, 978.81818182,\n",
       "        988.90909091, 999.        ]])"
      ]
     },
     "execution_count": 13,
     "metadata": {},
     "output_type": "execute_result"
    }
   ],
   "source": [
    "o"
   ]
  },
  {
   "cell_type": "code",
   "execution_count": 14,
   "metadata": {},
   "outputs": [
    {
     "data": {
      "text/plain": [
       "array([[1., 1., 1.],\n",
       "       [1., 1., 1.]])"
      ]
     },
     "execution_count": 14,
     "metadata": {},
     "output_type": "execute_result"
    }
   ],
   "source": [
    "np.ones((2, 3))"
   ]
  },
  {
   "cell_type": "markdown",
   "metadata": {},
   "source": [
    "# Pandas"
   ]
  },
  {
   "cell_type": "code",
   "execution_count": 15,
   "metadata": {},
   "outputs": [],
   "source": [
    "import pandas as pd"
   ]
  },
  {
   "cell_type": "code",
   "execution_count": 16,
   "metadata": {},
   "outputs": [],
   "source": [
    "pd.Series?"
   ]
  },
  {
   "cell_type": "code",
   "execution_count": 17,
   "metadata": {},
   "outputs": [],
   "source": [
    "animals = ['Tiger', 'Lion', 'Bear', 'Chimpanzee']"
   ]
  },
  {
   "cell_type": "code",
   "execution_count": 18,
   "metadata": {},
   "outputs": [
    {
     "data": {
      "text/plain": [
       "0         Tiger\n",
       "1          Lion\n",
       "2          Bear\n",
       "3    Chimpanzee\n",
       "dtype: object"
      ]
     },
     "execution_count": 18,
     "metadata": {},
     "output_type": "execute_result"
    }
   ],
   "source": [
    "pd.Series(animals)"
   ]
  },
  {
   "cell_type": "code",
   "execution_count": 19,
   "metadata": {},
   "outputs": [
    {
     "data": {
      "text/plain": [
       "0    1\n",
       "1    2\n",
       "2    3\n",
       "3    4\n",
       "4    5\n",
       "dtype: int64"
      ]
     },
     "execution_count": 19,
     "metadata": {},
     "output_type": "execute_result"
    }
   ],
   "source": [
    "numbers = [1, 2, 3, 4, 5]\n",
    "pd.Series(numbers)"
   ]
  },
  {
   "cell_type": "code",
   "execution_count": 20,
   "metadata": {},
   "outputs": [
    {
     "data": {
      "text/plain": [
       "False"
      ]
     },
     "execution_count": 20,
     "metadata": {},
     "output_type": "execute_result"
    }
   ],
   "source": [
    "np.nan == None"
   ]
  },
  {
   "cell_type": "code",
   "execution_count": 21,
   "metadata": {},
   "outputs": [
    {
     "data": {
      "text/plain": [
       "True"
      ]
     },
     "execution_count": 21,
     "metadata": {},
     "output_type": "execute_result"
    }
   ],
   "source": [
    "np.isnan(np.nan)"
   ]
  },
  {
   "cell_type": "markdown",
   "metadata": {},
   "source": [
    "# READING MULTIPLE FILES INTO ONE DATAFRAME"
   ]
  },
  {
   "cell_type": "code",
   "execution_count": 36,
   "metadata": {},
   "outputs": [
    {
     "ename": "FileNotFoundError",
     "evalue": "[Errno 2] File b'U*.TXT' does not exist: b'U*.TXT'",
     "output_type": "error",
     "traceback": [
      "\u001b[1;31m---------------------------------------------------------------------------\u001b[0m",
      "\u001b[1;31mFileNotFoundError\u001b[0m                         Traceback (most recent call last)",
      "\u001b[1;32m<ipython-input-36-82d13f46f1ef>\u001b[0m in \u001b[0;36m<module>\u001b[1;34m\u001b[0m\n\u001b[0;32m      1\u001b[0m \u001b[1;32mimport\u001b[0m \u001b[0mpandas\u001b[0m \u001b[1;32mas\u001b[0m \u001b[0mdd\u001b[0m\u001b[1;33m\u001b[0m\u001b[1;33m\u001b[0m\u001b[0m\n\u001b[0;32m      2\u001b[0m \u001b[1;33m\u001b[0m\u001b[0m\n\u001b[1;32m----> 3\u001b[1;33m \u001b[0mdf\u001b[0m \u001b[1;33m=\u001b[0m \u001b[0mdd\u001b[0m\u001b[1;33m.\u001b[0m\u001b[0mread_csv\u001b[0m\u001b[1;33m(\u001b[0m\u001b[1;34m'U*.TXT'\u001b[0m\u001b[1;33m,\u001b[0m \u001b[0mdelimiter\u001b[0m\u001b[1;33m=\u001b[0m\u001b[1;34m' '\u001b[0m\u001b[1;33m,\u001b[0m \u001b[0mnames\u001b[0m\u001b[1;33m=\u001b[0m\u001b[1;33m[\u001b[0m\u001b[1;34m'X'\u001b[0m\u001b[1;33m,\u001b[0m \u001b[1;34m'Y'\u001b[0m\u001b[1;33m,\u001b[0m \u001b[1;34m'TS'\u001b[0m\u001b[1;33m,\u001b[0m \u001b[1;34m'T'\u001b[0m\u001b[1;33m,\u001b[0m \u001b[1;34m'AZ'\u001b[0m\u001b[1;33m,\u001b[0m \u001b[1;34m'AL'\u001b[0m\u001b[1;33m,\u001b[0m \u001b[1;34m'P'\u001b[0m\u001b[1;33m]\u001b[0m\u001b[1;33m,\u001b[0m \u001b[0mheader\u001b[0m\u001b[1;33m=\u001b[0m\u001b[1;32mNone\u001b[0m\u001b[1;33m,\u001b[0m \u001b[0mskiprows\u001b[0m\u001b[1;33m=\u001b[0m\u001b[1;36m1\u001b[0m\u001b[1;33m)\u001b[0m\u001b[1;33m\u001b[0m\u001b[1;33m\u001b[0m\u001b[0m\n\u001b[0m",
      "\u001b[1;32m~\\Anaconda3\\lib\\site-packages\\pandas\\io\\parsers.py\u001b[0m in \u001b[0;36mparser_f\u001b[1;34m(filepath_or_buffer, sep, delimiter, header, names, index_col, usecols, squeeze, prefix, mangle_dupe_cols, dtype, engine, converters, true_values, false_values, skipinitialspace, skiprows, skipfooter, nrows, na_values, keep_default_na, na_filter, verbose, skip_blank_lines, parse_dates, infer_datetime_format, keep_date_col, date_parser, dayfirst, iterator, chunksize, compression, thousands, decimal, lineterminator, quotechar, quoting, doublequote, escapechar, comment, encoding, dialect, tupleize_cols, error_bad_lines, warn_bad_lines, delim_whitespace, low_memory, memory_map, float_precision)\u001b[0m\n\u001b[0;32m    700\u001b[0m                     skip_blank_lines=skip_blank_lines)\n\u001b[0;32m    701\u001b[0m \u001b[1;33m\u001b[0m\u001b[0m\n\u001b[1;32m--> 702\u001b[1;33m         \u001b[1;32mreturn\u001b[0m \u001b[0m_read\u001b[0m\u001b[1;33m(\u001b[0m\u001b[0mfilepath_or_buffer\u001b[0m\u001b[1;33m,\u001b[0m \u001b[0mkwds\u001b[0m\u001b[1;33m)\u001b[0m\u001b[1;33m\u001b[0m\u001b[1;33m\u001b[0m\u001b[0m\n\u001b[0m\u001b[0;32m    703\u001b[0m \u001b[1;33m\u001b[0m\u001b[0m\n\u001b[0;32m    704\u001b[0m     \u001b[0mparser_f\u001b[0m\u001b[1;33m.\u001b[0m\u001b[0m__name__\u001b[0m \u001b[1;33m=\u001b[0m \u001b[0mname\u001b[0m\u001b[1;33m\u001b[0m\u001b[1;33m\u001b[0m\u001b[0m\n",
      "\u001b[1;32m~\\Anaconda3\\lib\\site-packages\\pandas\\io\\parsers.py\u001b[0m in \u001b[0;36m_read\u001b[1;34m(filepath_or_buffer, kwds)\u001b[0m\n\u001b[0;32m    427\u001b[0m \u001b[1;33m\u001b[0m\u001b[0m\n\u001b[0;32m    428\u001b[0m     \u001b[1;31m# Create the parser.\u001b[0m\u001b[1;33m\u001b[0m\u001b[1;33m\u001b[0m\u001b[1;33m\u001b[0m\u001b[0m\n\u001b[1;32m--> 429\u001b[1;33m     \u001b[0mparser\u001b[0m \u001b[1;33m=\u001b[0m \u001b[0mTextFileReader\u001b[0m\u001b[1;33m(\u001b[0m\u001b[0mfilepath_or_buffer\u001b[0m\u001b[1;33m,\u001b[0m \u001b[1;33m**\u001b[0m\u001b[0mkwds\u001b[0m\u001b[1;33m)\u001b[0m\u001b[1;33m\u001b[0m\u001b[1;33m\u001b[0m\u001b[0m\n\u001b[0m\u001b[0;32m    430\u001b[0m \u001b[1;33m\u001b[0m\u001b[0m\n\u001b[0;32m    431\u001b[0m     \u001b[1;32mif\u001b[0m \u001b[0mchunksize\u001b[0m \u001b[1;32mor\u001b[0m \u001b[0miterator\u001b[0m\u001b[1;33m:\u001b[0m\u001b[1;33m\u001b[0m\u001b[1;33m\u001b[0m\u001b[0m\n",
      "\u001b[1;32m~\\Anaconda3\\lib\\site-packages\\pandas\\io\\parsers.py\u001b[0m in \u001b[0;36m__init__\u001b[1;34m(self, f, engine, **kwds)\u001b[0m\n\u001b[0;32m    893\u001b[0m             \u001b[0mself\u001b[0m\u001b[1;33m.\u001b[0m\u001b[0moptions\u001b[0m\u001b[1;33m[\u001b[0m\u001b[1;34m'has_index_names'\u001b[0m\u001b[1;33m]\u001b[0m \u001b[1;33m=\u001b[0m \u001b[0mkwds\u001b[0m\u001b[1;33m[\u001b[0m\u001b[1;34m'has_index_names'\u001b[0m\u001b[1;33m]\u001b[0m\u001b[1;33m\u001b[0m\u001b[1;33m\u001b[0m\u001b[0m\n\u001b[0;32m    894\u001b[0m \u001b[1;33m\u001b[0m\u001b[0m\n\u001b[1;32m--> 895\u001b[1;33m         \u001b[0mself\u001b[0m\u001b[1;33m.\u001b[0m\u001b[0m_make_engine\u001b[0m\u001b[1;33m(\u001b[0m\u001b[0mself\u001b[0m\u001b[1;33m.\u001b[0m\u001b[0mengine\u001b[0m\u001b[1;33m)\u001b[0m\u001b[1;33m\u001b[0m\u001b[1;33m\u001b[0m\u001b[0m\n\u001b[0m\u001b[0;32m    896\u001b[0m \u001b[1;33m\u001b[0m\u001b[0m\n\u001b[0;32m    897\u001b[0m     \u001b[1;32mdef\u001b[0m \u001b[0mclose\u001b[0m\u001b[1;33m(\u001b[0m\u001b[0mself\u001b[0m\u001b[1;33m)\u001b[0m\u001b[1;33m:\u001b[0m\u001b[1;33m\u001b[0m\u001b[1;33m\u001b[0m\u001b[0m\n",
      "\u001b[1;32m~\\Anaconda3\\lib\\site-packages\\pandas\\io\\parsers.py\u001b[0m in \u001b[0;36m_make_engine\u001b[1;34m(self, engine)\u001b[0m\n\u001b[0;32m   1120\u001b[0m     \u001b[1;32mdef\u001b[0m \u001b[0m_make_engine\u001b[0m\u001b[1;33m(\u001b[0m\u001b[0mself\u001b[0m\u001b[1;33m,\u001b[0m \u001b[0mengine\u001b[0m\u001b[1;33m=\u001b[0m\u001b[1;34m'c'\u001b[0m\u001b[1;33m)\u001b[0m\u001b[1;33m:\u001b[0m\u001b[1;33m\u001b[0m\u001b[1;33m\u001b[0m\u001b[0m\n\u001b[0;32m   1121\u001b[0m         \u001b[1;32mif\u001b[0m \u001b[0mengine\u001b[0m \u001b[1;33m==\u001b[0m \u001b[1;34m'c'\u001b[0m\u001b[1;33m:\u001b[0m\u001b[1;33m\u001b[0m\u001b[1;33m\u001b[0m\u001b[0m\n\u001b[1;32m-> 1122\u001b[1;33m             \u001b[0mself\u001b[0m\u001b[1;33m.\u001b[0m\u001b[0m_engine\u001b[0m \u001b[1;33m=\u001b[0m \u001b[0mCParserWrapper\u001b[0m\u001b[1;33m(\u001b[0m\u001b[0mself\u001b[0m\u001b[1;33m.\u001b[0m\u001b[0mf\u001b[0m\u001b[1;33m,\u001b[0m \u001b[1;33m**\u001b[0m\u001b[0mself\u001b[0m\u001b[1;33m.\u001b[0m\u001b[0moptions\u001b[0m\u001b[1;33m)\u001b[0m\u001b[1;33m\u001b[0m\u001b[1;33m\u001b[0m\u001b[0m\n\u001b[0m\u001b[0;32m   1123\u001b[0m         \u001b[1;32melse\u001b[0m\u001b[1;33m:\u001b[0m\u001b[1;33m\u001b[0m\u001b[1;33m\u001b[0m\u001b[0m\n\u001b[0;32m   1124\u001b[0m             \u001b[1;32mif\u001b[0m \u001b[0mengine\u001b[0m \u001b[1;33m==\u001b[0m \u001b[1;34m'python'\u001b[0m\u001b[1;33m:\u001b[0m\u001b[1;33m\u001b[0m\u001b[1;33m\u001b[0m\u001b[0m\n",
      "\u001b[1;32m~\\Anaconda3\\lib\\site-packages\\pandas\\io\\parsers.py\u001b[0m in \u001b[0;36m__init__\u001b[1;34m(self, src, **kwds)\u001b[0m\n\u001b[0;32m   1851\u001b[0m         \u001b[0mkwds\u001b[0m\u001b[1;33m[\u001b[0m\u001b[1;34m'usecols'\u001b[0m\u001b[1;33m]\u001b[0m \u001b[1;33m=\u001b[0m \u001b[0mself\u001b[0m\u001b[1;33m.\u001b[0m\u001b[0musecols\u001b[0m\u001b[1;33m\u001b[0m\u001b[1;33m\u001b[0m\u001b[0m\n\u001b[0;32m   1852\u001b[0m \u001b[1;33m\u001b[0m\u001b[0m\n\u001b[1;32m-> 1853\u001b[1;33m         \u001b[0mself\u001b[0m\u001b[1;33m.\u001b[0m\u001b[0m_reader\u001b[0m \u001b[1;33m=\u001b[0m \u001b[0mparsers\u001b[0m\u001b[1;33m.\u001b[0m\u001b[0mTextReader\u001b[0m\u001b[1;33m(\u001b[0m\u001b[0msrc\u001b[0m\u001b[1;33m,\u001b[0m \u001b[1;33m**\u001b[0m\u001b[0mkwds\u001b[0m\u001b[1;33m)\u001b[0m\u001b[1;33m\u001b[0m\u001b[1;33m\u001b[0m\u001b[0m\n\u001b[0m\u001b[0;32m   1854\u001b[0m         \u001b[0mself\u001b[0m\u001b[1;33m.\u001b[0m\u001b[0munnamed_cols\u001b[0m \u001b[1;33m=\u001b[0m \u001b[0mself\u001b[0m\u001b[1;33m.\u001b[0m\u001b[0m_reader\u001b[0m\u001b[1;33m.\u001b[0m\u001b[0munnamed_cols\u001b[0m\u001b[1;33m\u001b[0m\u001b[1;33m\u001b[0m\u001b[0m\n\u001b[0;32m   1855\u001b[0m \u001b[1;33m\u001b[0m\u001b[0m\n",
      "\u001b[1;32mpandas/_libs/parsers.pyx\u001b[0m in \u001b[0;36mpandas._libs.parsers.TextReader.__cinit__\u001b[1;34m()\u001b[0m\n",
      "\u001b[1;32mpandas/_libs/parsers.pyx\u001b[0m in \u001b[0;36mpandas._libs.parsers.TextReader._setup_parser_source\u001b[1;34m()\u001b[0m\n",
      "\u001b[1;31mFileNotFoundError\u001b[0m: [Errno 2] File b'U*.TXT' does not exist: b'U*.TXT'"
     ]
    }
   ],
   "source": [
    "import pandas as dd\n",
    "\n",
    "df = dd.read_csv('U*.TXT', delimiter=' ', names=['X', 'Y', 'TS', 'T', 'AZ', 'AL', 'P'], header=None, skiprows=1)"
   ]
  },
  {
   "cell_type": "code",
   "execution_count": 35,
   "metadata": {},
   "outputs": [
    {
     "name": "stdout",
     "output_type": "stream",
     "text": [
      "        X     Y        TS  T    AZ   AL    P\n",
      "121  5747  4077  17614284  1  1360  550  405\n",
      "122  5802  3975  17614294  1  1380  550  443\n",
      "123  5847  3855  17614304  1  1390  550  477\n",
      "124  5862  3705  17614314  1  1390  550  501\n",
      "125  5862  3546  17614324  1  1390  550  513\n",
      "126  5830  3380  17614334  1  1390  550  515\n",
      "127  5767  3168  17614344  1  1390  550  515\n",
      "128  5682  2991  17614354  1  1390  550  499\n",
      "129  5608  2837  17614364  1  1390  550  404\n",
      "130  5559  2743  17614374  1  1380  550   56\n",
      "131  5490  3069  17614454  0  1360  560  279\n",
      "132  5569  3052  17614464  1  1360  560  337\n",
      "133  5589  3044  17614474  1  1350  550  343\n",
      "134  5599  3038  17614484  1  1350  550  387\n",
      "135  5663  3014  17614494  1  1350  550  448\n",
      "136  5760  2981  17614504  1  1350  550  519\n",
      "137  5879  2927  17614514  1  1350  550  586\n",
      "138  6023  2867  17614524  1  1350  550  611\n",
      "139  6224  2790  17614534  1  1350  550  619\n",
      "140  6464  2704  17614544  1  1350  550  563\n",
      "141  6745  2636  17614554  1  1350  570  329\n",
      "142  6962  4864  17614935  0  1380  510  407\n",
      "143  6929  4787  17614945  1  1370  520  441\n",
      "144  6946  4837  17614955  1  1370  520  431\n",
      "145  6974  4898  17614965  1  1390  520  433\n",
      "146  7111  4967  17614975  1  1390  520  405\n",
      "147  7307  5109  17614985  1  1390  520  389\n",
      "148  7542  5246  17614995  1  1390  520  388\n",
      "149  7744  5373  17615005  1  1390  520  398\n",
      "150  7907  5454  17615015  1  1390  520  392\n",
      "..    ...   ...       ... ..   ...  ...  ...\n",
      "271  7970  2880  17616506  1  1390  600  413\n",
      "272  7986  2801  17616516  1  1390  600  335\n",
      "273  7991  2721  17616526  1  1390  600  228\n",
      "274  7991  2641  17616536  1  1390  600   95\n",
      "275  7966  2559  17616546  1  1390  600   65\n",
      "276  7923  2472  17616556  1  1390  600   90\n",
      "277  7867  2383  17616566  1  1390  600  208\n",
      "278  7809  2316  17616576  1  1390  600  345\n",
      "279  7752  2280  17616586  1  1390  600  466\n",
      "280  7728  2266  17616596  1  1390  600  517\n",
      "281  7728  2274  17616606  1  1380  590  546\n",
      "282  7754  2326  17616616  1  1380  590  572\n",
      "283  7852  2407  17616626  1  1380  590  591\n",
      "284  7996  2514  17616636  1  1380  590  608\n",
      "285  8141  2628  17616646  1  1380  590  603\n",
      "286  8292  2747  17616656  1  1380  590  594\n",
      "287  8446  2850  17616666  1  1380  590  559\n",
      "288  8555  2930  17616676  1  1380  590  491\n",
      "289  8634  2996  17616686  1  1380  590  339\n",
      "290  8575  3281  17616788  0  1390  600  241\n",
      "291  8643  3269  17616798  1  1390  600  392\n",
      "292  8643  3269  17616808  1  1390  600  444\n",
      "293  8665  3274  17616818  1  1410  590  509\n",
      "294  8698  3255  17616828  1  1390  600  584\n",
      "295  8743  3221  17616838  1  1390  600  637\n",
      "296  8789  3147  17616848  1  1390  600  669\n",
      "297  8832  3043  17616858  1  1390  600  679\n",
      "298  8873  2919  17616868  1  1390  600  666\n",
      "299  8920  2812  17616878  1  1410  600  592\n",
      "300  8968  2754  17616888  1  1410  600  178\n",
      "\n",
      "[180 rows x 7 columns]\n"
     ]
    }
   ],
   "source": [
    "print(df.tail(180))"
   ]
  },
  {
   "cell_type": "code",
   "execution_count": null,
   "metadata": {},
   "outputs": [],
   "source": []
  }
 ],
 "metadata": {
  "kernelspec": {
   "display_name": "Python 3",
   "language": "python",
   "name": "python3"
  },
  "language_info": {
   "codemirror_mode": {
    "name": "ipython",
    "version": 3
   },
   "file_extension": ".py",
   "mimetype": "text/x-python",
   "name": "python",
   "nbconvert_exporter": "python",
   "pygments_lexer": "ipython3",
   "version": "3.7.3"
  }
 },
 "nbformat": 4,
 "nbformat_minor": 2
}
