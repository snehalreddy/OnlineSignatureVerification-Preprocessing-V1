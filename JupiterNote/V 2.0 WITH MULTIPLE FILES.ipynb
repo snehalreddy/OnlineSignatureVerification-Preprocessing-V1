{
 "cells": [
  {
   "cell_type": "code",
   "execution_count": 1,
   "metadata": {},
   "outputs": [],
   "source": [
    "# This small sample data set contains signature data collected from\n",
    "# five users.  For each user, there are 20 genuine signatures and\n",
    "# 20 skilled forgeries.\n",
    "\n",
    "# Each genuine/forgery signature is stored in a separate text file.\n",
    "# The file names are in the format \"USERx_y.txt\", where x (1..5)\n",
    "# indicates the user and y (1..40) indicates one signature instance\n",
    "# of the corresponding user, with the first 20 (1..20) representing\n",
    "# genuine signatures and the rest (21..40) representing skilled\n",
    "# forgeries provided by the other users. \n",
    "\n",
    "# In each text file, the signature is simply represented as a\n",
    "# sequence of points.  The first line stores a single integer which\n",
    "# is the total number of points in the signature.  Each of the\n",
    "# subsequent lines corresponds to one point characterized by seven\n",
    "# features listed in the following order:\n",
    "\n",
    "#   X-coordinate  - scaled cursor position along the x-axis\n",
    "#   Y-coordinate  - scaled cursor position along the y-axis\n",
    "#   Time stamp    - system time at which the event was posted\n",
    "#   Button status - current button status (0 for pen-up and\n",
    "#                   1 for pen-down)\n",
    "#   Azimuth       - clockwise rotation of cursor about the z-axis\n",
    "#   Altitude      - angle upward toward the positive z-axis\n",
    "#   Pressure      - adjusted state of the normal pressure"
   ]
  },
  {
   "cell_type": "code",
   "execution_count": 2,
   "metadata": {},
   "outputs": [],
   "source": [
    "import pandas as pd\n",
    "import numpy as np"
   ]
  },
  {
   "cell_type": "code",
   "execution_count": 3,
   "metadata": {},
   "outputs": [],
   "source": [
    "file_name = ''"
   ]
  },
  {
   "cell_type": "code",
   "execution_count": 4,
   "metadata": {},
   "outputs": [],
   "source": [
    "list_df = []\n",
    "list_size = []"
   ]
  },
  {
   "cell_type": "markdown",
   "metadata": {},
   "source": [
    "## COMBINING ALL THE FILES INTO ONE LIST"
   ]
  },
  {
   "cell_type": "code",
   "execution_count": 5,
   "metadata": {},
   "outputs": [
    {
     "name": "stdout",
     "output_type": "stream",
     "text": [
      "Wall time: 3.38 s\n"
     ]
    }
   ],
   "source": [
    "%%time\n",
    "count = 0\n",
    "for i in range(1,41):\n",
    "    for j in range(1, 41):\n",
    "        file_name = 'U'+str(i)+'S'+str(j)+'.txt'\n",
    "                \n",
    "        # Reading into a dataframe and appending it to a list\n",
    "        df = pd.read_csv(file_name, delimiter=' ', names=['X', 'Y', 'TS', 'T', 'AZ', 'AL', 'P'], header=None, skiprows=1)\n",
    "        list_df.append(df)\n",
    "        \n",
    "        # Creating list_size of storing number of rows in each file\n",
    "        rows, cols = df.shape\n",
    "        list_size.append(rows)"
   ]
  },
  {
   "cell_type": "markdown",
   "metadata": {},
   "source": [
    "## CONVERTING INTO A LARGE DATAFRAME"
   ]
  },
  {
   "cell_type": "markdown",
   "metadata": {},
   "source": [
    "##### ARRAY FORMAT"
   ]
  },
  {
   "cell_type": "code",
   "execution_count": 6,
   "metadata": {},
   "outputs": [],
   "source": [
    "df_array = np.vstack(list_df)"
   ]
  },
  {
   "cell_type": "markdown",
   "metadata": {},
   "source": [
    "##### CREATING A DATAFRAME"
   ]
  },
  {
   "cell_type": "code",
   "execution_count": 7,
   "metadata": {
    "scrolled": true
   },
   "outputs": [
    {
     "data": {
      "text/html": [
       "<div>\n",
       "<style scoped>\n",
       "    .dataframe tbody tr th:only-of-type {\n",
       "        vertical-align: middle;\n",
       "    }\n",
       "\n",
       "    .dataframe tbody tr th {\n",
       "        vertical-align: top;\n",
       "    }\n",
       "\n",
       "    .dataframe thead th {\n",
       "        text-align: right;\n",
       "    }\n",
       "</style>\n",
       "<table border=\"1\" class=\"dataframe\">\n",
       "  <thead>\n",
       "    <tr style=\"text-align: right;\">\n",
       "      <th></th>\n",
       "      <th>X</th>\n",
       "      <th>Y</th>\n",
       "      <th>TS</th>\n",
       "      <th>T</th>\n",
       "      <th>AZ</th>\n",
       "      <th>AL</th>\n",
       "      <th>P</th>\n",
       "    </tr>\n",
       "  </thead>\n",
       "  <tbody>\n",
       "    <tr>\n",
       "      <th>0</th>\n",
       "      <td>2933</td>\n",
       "      <td>5678</td>\n",
       "      <td>31275775</td>\n",
       "      <td>0</td>\n",
       "      <td>1550</td>\n",
       "      <td>710</td>\n",
       "      <td>439</td>\n",
       "    </tr>\n",
       "    <tr>\n",
       "      <th>1</th>\n",
       "      <td>2933</td>\n",
       "      <td>5678</td>\n",
       "      <td>31275785</td>\n",
       "      <td>1</td>\n",
       "      <td>1480</td>\n",
       "      <td>770</td>\n",
       "      <td>420</td>\n",
       "    </tr>\n",
       "    <tr>\n",
       "      <th>2</th>\n",
       "      <td>3001</td>\n",
       "      <td>5851</td>\n",
       "      <td>31275795</td>\n",
       "      <td>1</td>\n",
       "      <td>1350</td>\n",
       "      <td>830</td>\n",
       "      <td>433</td>\n",
       "    </tr>\n",
       "    <tr>\n",
       "      <th>3</th>\n",
       "      <td>3114</td>\n",
       "      <td>6139</td>\n",
       "      <td>31275805</td>\n",
       "      <td>1</td>\n",
       "      <td>1350</td>\n",
       "      <td>800</td>\n",
       "      <td>422</td>\n",
       "    </tr>\n",
       "    <tr>\n",
       "      <th>4</th>\n",
       "      <td>3217</td>\n",
       "      <td>6198</td>\n",
       "      <td>31275815</td>\n",
       "      <td>1</td>\n",
       "      <td>1350</td>\n",
       "      <td>800</td>\n",
       "      <td>415</td>\n",
       "    </tr>\n",
       "  </tbody>\n",
       "</table>\n",
       "</div>"
      ],
      "text/plain": [
       "      X     Y        TS  T    AZ   AL    P\n",
       "0  2933  5678  31275775  0  1550  710  439\n",
       "1  2933  5678  31275785  1  1480  770  420\n",
       "2  3001  5851  31275795  1  1350  830  433\n",
       "3  3114  6139  31275805  1  1350  800  422\n",
       "4  3217  6198  31275815  1  1350  800  415"
      ]
     },
     "execution_count": 7,
     "metadata": {},
     "output_type": "execute_result"
    }
   ],
   "source": [
    "final_dataset = pd.DataFrame(df_array)\n",
    "final_dataset.columns = ['X', 'Y', 'TS', 'T', 'AZ', 'AL', 'P']\n",
    "final_dataset.head()"
   ]
  },
  {
   "cell_type": "markdown",
   "metadata": {},
   "source": [
    "## ATTRIBUTES CALCULATION"
   ]
  },
  {
   "cell_type": "code",
   "execution_count": 8,
   "metadata": {},
   "outputs": [],
   "source": [
    "forgery = []\n",
    "\n",
    "velocity_array = []\n",
    "x_velocity_array = []\n",
    "y_velocity_array = []\n",
    "avg_pressure = []\n",
    "avg_x = []\n",
    "avg_y = []\n",
    "pen_up = []"
   ]
  },
  {
   "cell_type": "code",
   "execution_count": 9,
   "metadata": {},
   "outputs": [],
   "source": [
    "distance = 0\n",
    "index = 0\n",
    "count = 0\n",
    "x_distance = 0\n",
    "y_distance = 0\n",
    "pressure = 0\n",
    "\n",
    "temp = 0"
   ]
  },
  {
   "cell_type": "code",
   "execution_count": 10,
   "metadata": {},
   "outputs": [
    {
     "name": "stdout",
     "output_type": "stream",
     "text": [
      "Wall time: 58 s\n"
     ]
    }
   ],
   "source": [
    "%%time\n",
    "\n",
    "for x in list_size:\n",
    "    for i in range(x):\n",
    "        j = i-1\n",
    "        if j >= 0:\n",
    "            distance += ((final_dataset['X'][count+j] - final_dataset['X'][count+i])**2 + (final_dataset['Y'][count+j] - final_dataset['Y'][count+i])**2)**0.5\n",
    "            \n",
    "            x_distance += abs(final_dataset['X'][count+j] - final_dataset['X'][count+i])\n",
    "            \n",
    "            y_distance += abs(final_dataset['Y'][count+j] - final_dataset['Y'][count+i])\n",
    "            \n",
    "            time = final_dataset['TS'][count+x-1] - final_dataset['TS'][count]\n",
    "            \n",
    "            pressure += final_dataset['P'][count+i]\n",
    "            \n",
    "    # pen-up\n",
    "    pen_up.append(final_dataset['T'][count:count+x].sum())\n",
    "    \n",
    "    count += x\n",
    "    \n",
    "    \n",
    "    # velocity calculation\n",
    "    velocity_array.append(float(distance*1000/time))\n",
    "    \n",
    "    # x_velocity calculation\n",
    "    x_velocity_array.append(float(x_distance*1000/time))\n",
    "    \n",
    "    # y_velocity calculation\n",
    "    y_velocity_array.append(float(y_distance*1000/time))\n",
    "    \n",
    "    # avg_pressure calculation\n",
    "    avg_pressure.append(float(pressure/x))\n",
    "    \n",
    "    # avg_x calculation\n",
    "    avg_x.append(x_distance/x)\n",
    "\n",
    "    # avg_y calculation\n",
    "    avg_y.append(y_distance/x)\n",
    "    \n",
    "    \n",
    "    \n",
    "    \n",
    "    \n",
    "    \n",
    "    \n",
    "    # initialization\n",
    "    distance = 0\n",
    "    x_distance = 0\n",
    "    y_distance = 0\n",
    "    time = 0\n",
    "    pressure = 0"
   ]
  },
  {
   "cell_type": "code",
   "execution_count": 11,
   "metadata": {},
   "outputs": [
    {
     "name": "stdout",
     "output_type": "stream",
     "text": [
      "velocity     : [22203.433517655238, 22930.26429846866, 24527.287240196525, 23457.56298187479, 21381.860569602373] 1600\n",
      "x_velocity   : [11205.445544554455, 11497.48322147651, 12736.133122028526, 12059.068219633944, 11249.260355029586] 1600\n",
      "y_velocity   : [16169.14191419142, 16750.0, 17482.56735340729, 16648.086522462563, 15363.905325443788] 1600\n",
      "avg_pressure : [623.2380952380952, 594.5411764705882, 583.3111111111111, 603.8414634146342, 537.0860215053764] 1600\n",
      "avg_x : [161.67857142857142, 161.23529411764707, 178.5888888888889, 176.76829268292684, 163.53763440860214] 1600\n",
      "avg_y : [233.29761904761904, 234.89411764705883, 245.14444444444445, 244.03658536585365, 223.3548387096774] 1600\n",
      "pen-up : [78, 79, 84, 76, 85] 1600\n"
     ]
    }
   ],
   "source": [
    "print('velocity     :', velocity_array[:5], len(velocity_array))\n",
    "\n",
    "print('x_velocity   :', x_velocity_array[:5], len(x_velocity_array))\n",
    "\n",
    "print('y_velocity   :', y_velocity_array[:5], len(y_velocity_array))\n",
    "\n",
    "print('avg_pressure :', avg_pressure[:5], len(avg_pressure))\n",
    "\n",
    "print('avg_x :', avg_x[:5], len(avg_x))\n",
    "\n",
    "print('avg_y :', avg_y[:5], len(avg_y))\n",
    "\n",
    "print('pen-up :', pen_up[:5], len(pen_up))"
   ]
  },
  {
   "cell_type": "code",
   "execution_count": 12,
   "metadata": {},
   "outputs": [],
   "source": [
    "i=1\n",
    "while(i<1601):\n",
    "    for j in range(1,21):\n",
    "        forgery.append(1)\n",
    "    for j in range(1,21):\n",
    "        forgery.append(0)\n",
    "    i+=40"
   ]
  },
  {
   "cell_type": "markdown",
   "metadata": {},
   "source": [
    "## COMBINE IT INTO A FEATURE VECTOR"
   ]
  },
  {
   "cell_type": "code",
   "execution_count": 13,
   "metadata": {},
   "outputs": [],
   "source": [
    "fv_dictionary = {'velocity':velocity_array, 'x_velocity':x_velocity_array, 'y_velocity':y_velocity_array, 'avg_pressure':avg_pressure,\n",
    "                 'avg_x':avg_x, 'avg_y':avg_y, 'pen_up':pen_up, 'forgery':forgery}"
   ]
  },
  {
   "cell_type": "code",
   "execution_count": 14,
   "metadata": {},
   "outputs": [],
   "source": [
    "feature_vector = pd.DataFrame(fv_dictionary)"
   ]
  },
  {
   "cell_type": "code",
   "execution_count": 15,
   "metadata": {},
   "outputs": [
    {
     "data": {
      "text/html": [
       "<div>\n",
       "<style scoped>\n",
       "    .dataframe tbody tr th:only-of-type {\n",
       "        vertical-align: middle;\n",
       "    }\n",
       "\n",
       "    .dataframe tbody tr th {\n",
       "        vertical-align: top;\n",
       "    }\n",
       "\n",
       "    .dataframe thead th {\n",
       "        text-align: right;\n",
       "    }\n",
       "</style>\n",
       "<table border=\"1\" class=\"dataframe\">\n",
       "  <thead>\n",
       "    <tr style=\"text-align: right;\">\n",
       "      <th></th>\n",
       "      <th>velocity</th>\n",
       "      <th>x_velocity</th>\n",
       "      <th>y_velocity</th>\n",
       "      <th>avg_pressure</th>\n",
       "      <th>avg_x</th>\n",
       "      <th>avg_y</th>\n",
       "      <th>pen_up</th>\n",
       "      <th>forgery</th>\n",
       "    </tr>\n",
       "  </thead>\n",
       "  <tbody>\n",
       "    <tr>\n",
       "      <th>0</th>\n",
       "      <td>22203.433518</td>\n",
       "      <td>11205.445545</td>\n",
       "      <td>16169.141914</td>\n",
       "      <td>623.238095</td>\n",
       "      <td>161.678571</td>\n",
       "      <td>233.297619</td>\n",
       "      <td>78</td>\n",
       "      <td>1</td>\n",
       "    </tr>\n",
       "    <tr>\n",
       "      <th>1</th>\n",
       "      <td>22930.264298</td>\n",
       "      <td>11497.483221</td>\n",
       "      <td>16750.000000</td>\n",
       "      <td>594.541176</td>\n",
       "      <td>161.235294</td>\n",
       "      <td>234.894118</td>\n",
       "      <td>79</td>\n",
       "      <td>1</td>\n",
       "    </tr>\n",
       "    <tr>\n",
       "      <th>2</th>\n",
       "      <td>24527.287240</td>\n",
       "      <td>12736.133122</td>\n",
       "      <td>17482.567353</td>\n",
       "      <td>583.311111</td>\n",
       "      <td>178.588889</td>\n",
       "      <td>245.144444</td>\n",
       "      <td>84</td>\n",
       "      <td>1</td>\n",
       "    </tr>\n",
       "    <tr>\n",
       "      <th>3</th>\n",
       "      <td>23457.562982</td>\n",
       "      <td>12059.068220</td>\n",
       "      <td>16648.086522</td>\n",
       "      <td>603.841463</td>\n",
       "      <td>176.768293</td>\n",
       "      <td>244.036585</td>\n",
       "      <td>76</td>\n",
       "      <td>1</td>\n",
       "    </tr>\n",
       "    <tr>\n",
       "      <th>4</th>\n",
       "      <td>21381.860570</td>\n",
       "      <td>11249.260355</td>\n",
       "      <td>15363.905325</td>\n",
       "      <td>537.086022</td>\n",
       "      <td>163.537634</td>\n",
       "      <td>223.354839</td>\n",
       "      <td>85</td>\n",
       "      <td>1</td>\n",
       "    </tr>\n",
       "  </tbody>\n",
       "</table>\n",
       "</div>"
      ],
      "text/plain": [
       "       velocity    x_velocity    y_velocity  avg_pressure       avg_x  \\\n",
       "0  22203.433518  11205.445545  16169.141914    623.238095  161.678571   \n",
       "1  22930.264298  11497.483221  16750.000000    594.541176  161.235294   \n",
       "2  24527.287240  12736.133122  17482.567353    583.311111  178.588889   \n",
       "3  23457.562982  12059.068220  16648.086522    603.841463  176.768293   \n",
       "4  21381.860570  11249.260355  15363.905325    537.086022  163.537634   \n",
       "\n",
       "        avg_y  pen_up  forgery  \n",
       "0  233.297619      78        1  \n",
       "1  234.894118      79        1  \n",
       "2  245.144444      84        1  \n",
       "3  244.036585      76        1  \n",
       "4  223.354839      85        1  "
      ]
     },
     "execution_count": 15,
     "metadata": {},
     "output_type": "execute_result"
    }
   ],
   "source": [
    "feature_vector.head()"
   ]
  },
  {
   "cell_type": "code",
   "execution_count": 16,
   "metadata": {},
   "outputs": [],
   "source": [
    "feature_vector.to_csv('feature_vector_original.csv', index=False)"
   ]
  },
  {
   "cell_type": "markdown",
   "metadata": {},
   "source": [
    "## NORMALIZE THE FEATURE VECTOR"
   ]
  },
  {
   "cell_type": "code",
   "execution_count": 17,
   "metadata": {},
   "outputs": [],
   "source": [
    "feature_vector = ((feature_vector - feature_vector.min())/(feature_vector.max() - feature_vector.min()))*3"
   ]
  },
  {
   "cell_type": "code",
   "execution_count": 18,
   "metadata": {},
   "outputs": [
    {
     "data": {
      "text/html": [
       "<div>\n",
       "<style scoped>\n",
       "    .dataframe tbody tr th:only-of-type {\n",
       "        vertical-align: middle;\n",
       "    }\n",
       "\n",
       "    .dataframe tbody tr th {\n",
       "        vertical-align: top;\n",
       "    }\n",
       "\n",
       "    .dataframe thead th {\n",
       "        text-align: right;\n",
       "    }\n",
       "</style>\n",
       "<table border=\"1\" class=\"dataframe\">\n",
       "  <thead>\n",
       "    <tr style=\"text-align: right;\">\n",
       "      <th></th>\n",
       "      <th>velocity</th>\n",
       "      <th>x_velocity</th>\n",
       "      <th>y_velocity</th>\n",
       "      <th>avg_pressure</th>\n",
       "      <th>avg_x</th>\n",
       "      <th>avg_y</th>\n",
       "      <th>pen_up</th>\n",
       "      <th>forgery</th>\n",
       "    </tr>\n",
       "  </thead>\n",
       "  <tbody>\n",
       "    <tr>\n",
       "      <th>0</th>\n",
       "      <td>2.468348</td>\n",
       "      <td>2.207477</td>\n",
       "      <td>2.683657</td>\n",
       "      <td>1.831666</td>\n",
       "      <td>2.362836</td>\n",
       "      <td>2.839467</td>\n",
       "      <td>0.014925</td>\n",
       "      <td>3.0</td>\n",
       "    </tr>\n",
       "    <tr>\n",
       "      <th>1</th>\n",
       "      <td>2.560082</td>\n",
       "      <td>2.273419</td>\n",
       "      <td>2.791510</td>\n",
       "      <td>1.728427</td>\n",
       "      <td>2.355562</td>\n",
       "      <td>2.861100</td>\n",
       "      <td>0.018657</td>\n",
       "      <td>3.0</td>\n",
       "    </tr>\n",
       "    <tr>\n",
       "      <th>2</th>\n",
       "      <td>2.761645</td>\n",
       "      <td>2.553106</td>\n",
       "      <td>2.927532</td>\n",
       "      <td>1.688027</td>\n",
       "      <td>2.640318</td>\n",
       "      <td>3.000000</td>\n",
       "      <td>0.037313</td>\n",
       "      <td>3.0</td>\n",
       "    </tr>\n",
       "    <tr>\n",
       "      <th>3</th>\n",
       "      <td>2.626633</td>\n",
       "      <td>2.400225</td>\n",
       "      <td>2.772587</td>\n",
       "      <td>1.761885</td>\n",
       "      <td>2.610444</td>\n",
       "      <td>2.984988</td>\n",
       "      <td>0.007463</td>\n",
       "      <td>3.0</td>\n",
       "    </tr>\n",
       "    <tr>\n",
       "      <th>4</th>\n",
       "      <td>2.364656</td>\n",
       "      <td>2.217370</td>\n",
       "      <td>2.534142</td>\n",
       "      <td>1.521730</td>\n",
       "      <td>2.393341</td>\n",
       "      <td>2.704735</td>\n",
       "      <td>0.041045</td>\n",
       "      <td>3.0</td>\n",
       "    </tr>\n",
       "  </tbody>\n",
       "</table>\n",
       "</div>"
      ],
      "text/plain": [
       "   velocity  x_velocity  y_velocity  avg_pressure     avg_x     avg_y  \\\n",
       "0  2.468348    2.207477    2.683657      1.831666  2.362836  2.839467   \n",
       "1  2.560082    2.273419    2.791510      1.728427  2.355562  2.861100   \n",
       "2  2.761645    2.553106    2.927532      1.688027  2.640318  3.000000   \n",
       "3  2.626633    2.400225    2.772587      1.761885  2.610444  2.984988   \n",
       "4  2.364656    2.217370    2.534142      1.521730  2.393341  2.704735   \n",
       "\n",
       "     pen_up  forgery  \n",
       "0  0.014925      3.0  \n",
       "1  0.018657      3.0  \n",
       "2  0.037313      3.0  \n",
       "3  0.007463      3.0  \n",
       "4  0.041045      3.0  "
      ]
     },
     "execution_count": 18,
     "metadata": {},
     "output_type": "execute_result"
    }
   ],
   "source": [
    "feature_vector.head()"
   ]
  },
  {
   "cell_type": "code",
   "execution_count": 19,
   "metadata": {},
   "outputs": [],
   "source": [
    "feature_vector.to_csv('feature_vector_normalized.csv', index=False)"
   ]
  },
  {
   "cell_type": "markdown",
   "metadata": {},
   "source": [
    "## TRAIN DATA"
   ]
  },
  {
   "cell_type": "code",
   "execution_count": 20,
   "metadata": {},
   "outputs": [],
   "source": [
    "train_data_count = int(0.75*1600)\n",
    "train_df = feature_vector[:train_data_count]"
   ]
  },
  {
   "cell_type": "markdown",
   "metadata": {},
   "source": [
    "## TEST DATA"
   ]
  },
  {
   "cell_type": "code",
   "execution_count": 21,
   "metadata": {},
   "outputs": [],
   "source": [
    "test_data_count = int(0.25*1600)\n",
    "test_df = feature_vector[:test_data_count]"
   ]
  },
  {
   "cell_type": "code",
   "execution_count": 22,
   "metadata": {},
   "outputs": [
    {
     "data": {
      "text/html": [
       "<div>\n",
       "<style scoped>\n",
       "    .dataframe tbody tr th:only-of-type {\n",
       "        vertical-align: middle;\n",
       "    }\n",
       "\n",
       "    .dataframe tbody tr th {\n",
       "        vertical-align: top;\n",
       "    }\n",
       "\n",
       "    .dataframe thead th {\n",
       "        text-align: right;\n",
       "    }\n",
       "</style>\n",
       "<table border=\"1\" class=\"dataframe\">\n",
       "  <thead>\n",
       "    <tr style=\"text-align: right;\">\n",
       "      <th></th>\n",
       "      <th>velocity</th>\n",
       "      <th>x_velocity</th>\n",
       "      <th>y_velocity</th>\n",
       "      <th>avg_pressure</th>\n",
       "      <th>avg_x</th>\n",
       "      <th>avg_y</th>\n",
       "      <th>pen_up</th>\n",
       "    </tr>\n",
       "  </thead>\n",
       "  <tbody>\n",
       "    <tr>\n",
       "      <th>0</th>\n",
       "      <td>2.468348</td>\n",
       "      <td>2.207477</td>\n",
       "      <td>2.683657</td>\n",
       "      <td>1.831666</td>\n",
       "      <td>2.362836</td>\n",
       "      <td>2.839467</td>\n",
       "      <td>0.014925</td>\n",
       "    </tr>\n",
       "    <tr>\n",
       "      <th>1</th>\n",
       "      <td>2.560082</td>\n",
       "      <td>2.273419</td>\n",
       "      <td>2.791510</td>\n",
       "      <td>1.728427</td>\n",
       "      <td>2.355562</td>\n",
       "      <td>2.861100</td>\n",
       "      <td>0.018657</td>\n",
       "    </tr>\n",
       "    <tr>\n",
       "      <th>2</th>\n",
       "      <td>2.761645</td>\n",
       "      <td>2.553106</td>\n",
       "      <td>2.927532</td>\n",
       "      <td>1.688027</td>\n",
       "      <td>2.640318</td>\n",
       "      <td>3.000000</td>\n",
       "      <td>0.037313</td>\n",
       "    </tr>\n",
       "    <tr>\n",
       "      <th>3</th>\n",
       "      <td>2.626633</td>\n",
       "      <td>2.400225</td>\n",
       "      <td>2.772587</td>\n",
       "      <td>1.761885</td>\n",
       "      <td>2.610444</td>\n",
       "      <td>2.984988</td>\n",
       "      <td>0.007463</td>\n",
       "    </tr>\n",
       "    <tr>\n",
       "      <th>4</th>\n",
       "      <td>2.364656</td>\n",
       "      <td>2.217370</td>\n",
       "      <td>2.534142</td>\n",
       "      <td>1.521730</td>\n",
       "      <td>2.393341</td>\n",
       "      <td>2.704735</td>\n",
       "      <td>0.041045</td>\n",
       "    </tr>\n",
       "  </tbody>\n",
       "</table>\n",
       "</div>"
      ],
      "text/plain": [
       "   velocity  x_velocity  y_velocity  avg_pressure     avg_x     avg_y  \\\n",
       "0  2.468348    2.207477    2.683657      1.831666  2.362836  2.839467   \n",
       "1  2.560082    2.273419    2.791510      1.728427  2.355562  2.861100   \n",
       "2  2.761645    2.553106    2.927532      1.688027  2.640318  3.000000   \n",
       "3  2.626633    2.400225    2.772587      1.761885  2.610444  2.984988   \n",
       "4  2.364656    2.217370    2.534142      1.521730  2.393341  2.704735   \n",
       "\n",
       "     pen_up  \n",
       "0  0.014925  \n",
       "1  0.018657  \n",
       "2  0.037313  \n",
       "3  0.007463  \n",
       "4  0.041045  "
      ]
     },
     "execution_count": 22,
     "metadata": {},
     "output_type": "execute_result"
    }
   ],
   "source": [
    "x = train_df[['velocity', 'x_velocity', 'y_velocity', 'avg_pressure', 'avg_x', 'avg_y', 'pen_up']]\n",
    "x.head()"
   ]
  },
  {
   "cell_type": "code",
   "execution_count": 23,
   "metadata": {},
   "outputs": [
    {
     "data": {
      "text/plain": [
       "0    3.0\n",
       "1    3.0\n",
       "2    3.0\n",
       "3    3.0\n",
       "4    3.0\n",
       "Name: forgery, dtype: float64"
      ]
     },
     "execution_count": 23,
     "metadata": {},
     "output_type": "execute_result"
    }
   ],
   "source": [
    "y = train_df['forgery']\n",
    "y.head()"
   ]
  },
  {
   "cell_type": "code",
   "execution_count": 24,
   "metadata": {},
   "outputs": [
    {
     "name": "stdout",
     "output_type": "stream",
     "text": [
      "(1200, 7) (1200,)\n"
     ]
    }
   ],
   "source": [
    "print(x.shape, y.shape)"
   ]
  },
  {
   "cell_type": "markdown",
   "metadata": {},
   "source": [
    "# TRAINING AND TESTING MODEL"
   ]
  },
  {
   "cell_type": "markdown",
   "metadata": {},
   "source": [
    "# K NEIGHBOURS ALGORITHM"
   ]
  },
  {
   "cell_type": "markdown",
   "metadata": {},
   "source": [
    "## KNN 1"
   ]
  },
  {
   "cell_type": "code",
   "execution_count": 25,
   "metadata": {},
   "outputs": [],
   "source": [
    "from sklearn.neighbors import KNeighborsClassifier"
   ]
  },
  {
   "cell_type": "code",
   "execution_count": 26,
   "metadata": {},
   "outputs": [],
   "source": [
    "knn = KNeighborsClassifier(n_neighbors=1)"
   ]
  },
  {
   "cell_type": "code",
   "execution_count": 27,
   "metadata": {},
   "outputs": [
    {
     "data": {
      "text/plain": [
       "KNeighborsClassifier(algorithm='auto', leaf_size=30, metric='minkowski',\n",
       "           metric_params=None, n_jobs=None, n_neighbors=1, p=2,\n",
       "           weights='uniform')"
      ]
     },
     "execution_count": 27,
     "metadata": {},
     "output_type": "execute_result"
    }
   ],
   "source": [
    "knn.fit(x,y)"
   ]
  },
  {
   "cell_type": "code",
   "execution_count": 29,
   "metadata": {},
   "outputs": [
    {
     "name": "stdout",
     "output_type": "stream",
     "text": [
      "Accuracy of the model using knn 1 neighbour:  0.5 200\n"
     ]
    }
   ],
   "source": [
    "result = knn.predict((test_df[['velocity', 'x_velocity', 'y_velocity', 'avg_pressure', 'avg_x', 'avg_y', 'pen_up']]).to_numpy())\n",
    "\n",
    "error_count = 0\n",
    "\n",
    "for i in range(len(result)):\n",
    "    if result[i]!=test_df['forgery'][j]:\n",
    "        error_count += 1\n",
    "        \n",
    "accuracy_knn_1 = (test_data_count - error_count) / test_data_count\n",
    "\n",
    "print('Accuracy of the model using knn 1 neighbour: ', accuracy_knn_1, error_count)"
   ]
  },
  {
   "cell_type": "markdown",
   "metadata": {},
   "source": [
    "## KNN 5"
   ]
  },
  {
   "cell_type": "code",
   "execution_count": 31,
   "metadata": {},
   "outputs": [],
   "source": [
    "knn5 = KNeighborsClassifier(n_neighbors=5)"
   ]
  },
  {
   "cell_type": "code",
   "execution_count": 32,
   "metadata": {},
   "outputs": [
    {
     "data": {
      "text/plain": [
       "KNeighborsClassifier(algorithm='auto', leaf_size=30, metric='minkowski',\n",
       "           metric_params=None, n_jobs=None, n_neighbors=5, p=2,\n",
       "           weights='uniform')"
      ]
     },
     "execution_count": 32,
     "metadata": {},
     "output_type": "execute_result"
    }
   ],
   "source": [
    "knn5.fit(x,y)"
   ]
  },
  {
   "cell_type": "code",
   "execution_count": 33,
   "metadata": {},
   "outputs": [
    {
     "name": "stdout",
     "output_type": "stream",
     "text": [
      "Accuracy of the model using knn 1 neighbour:  0.455 218\n"
     ]
    }
   ],
   "source": [
    "result = knn5.predict((test_df[['velocity', 'x_velocity', 'y_velocity', 'avg_pressure', 'avg_x', 'avg_y', 'pen_up']]).to_numpy())\n",
    "\n",
    "error_count = 0\n",
    "\n",
    "for i in range(len(result)):\n",
    "    if result[i]!=test_df['forgery'][j]:\n",
    "        error_count += 1\n",
    "        \n",
    "accuracy_knn_5 = (test_data_count - error_count) / test_data_count\n",
    "\n",
    "print('Accuracy of the model using knn 1 neighbour: ', accuracy_knn_5, error_count)"
   ]
  },
  {
   "cell_type": "markdown",
   "metadata": {},
   "source": [
    "# LOGISTIC REGRESSION"
   ]
  },
  {
   "cell_type": "code",
   "execution_count": 34,
   "metadata": {},
   "outputs": [],
   "source": [
    "from sklearn.linear_model import LogisticRegression"
   ]
  },
  {
   "cell_type": "code",
   "execution_count": 35,
   "metadata": {},
   "outputs": [],
   "source": [
    "logreg = LogisticRegression()"
   ]
  },
  {
   "cell_type": "code",
   "execution_count": 36,
   "metadata": {},
   "outputs": [
    {
     "name": "stderr",
     "output_type": "stream",
     "text": [
      "C:\\Users\\syelm\\Anaconda3\\lib\\site-packages\\sklearn\\linear_model\\logistic.py:433: FutureWarning: Default solver will be changed to 'lbfgs' in 0.22. Specify a solver to silence this warning.\n",
      "  FutureWarning)\n"
     ]
    },
    {
     "data": {
      "text/plain": [
       "LogisticRegression(C=1.0, class_weight=None, dual=False, fit_intercept=True,\n",
       "          intercept_scaling=1, max_iter=100, multi_class='warn',\n",
       "          n_jobs=None, penalty='l2', random_state=None, solver='warn',\n",
       "          tol=0.0001, verbose=0, warm_start=False)"
      ]
     },
     "execution_count": 36,
     "metadata": {},
     "output_type": "execute_result"
    }
   ],
   "source": [
    "logreg.fit(x,y)"
   ]
  },
  {
   "cell_type": "code",
   "execution_count": 37,
   "metadata": {},
   "outputs": [],
   "source": [
    "result_logi = logreg.predict((test_df[['velocity', 'x_velocity', 'y_velocity', 'avg_pressure', 'avg_x', 'avg_y', 'pen_up']]).to_numpy())"
   ]
  },
  {
   "cell_type": "code",
   "execution_count": 38,
   "metadata": {},
   "outputs": [
    {
     "name": "stdout",
     "output_type": "stream",
     "text": [
      "Accuracy of the model using logistic regresion:  0.3875 245\n"
     ]
    }
   ],
   "source": [
    "error_count = 0\n",
    "\n",
    "for i in range(len(result_logi)):\n",
    "    if result_logi[i]!=test_df['forgery'][j]:\n",
    "        error_count += 1\n",
    "#         print(result[i], test_df['forgery'][i])\n",
    "        \n",
    "accuracy_logi = (test_data_count - error_count) / test_data_count\n",
    "\n",
    "print('Accuracy of the model using logistic regresion: ', accuracy_logi, error_count)"
   ]
  }
 ],
 "metadata": {
  "kernelspec": {
   "display_name": "Python 3",
   "language": "python",
   "name": "python3"
  },
  "language_info": {
   "codemirror_mode": {
    "name": "ipython",
    "version": 3
   },
   "file_extension": ".py",
   "mimetype": "text/x-python",
   "name": "python",
   "nbconvert_exporter": "python",
   "pygments_lexer": "ipython3",
   "version": "3.7.3"
  }
 },
 "nbformat": 4,
 "nbformat_minor": 2
}
