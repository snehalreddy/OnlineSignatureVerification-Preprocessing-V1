{
 "cells": [
  {
   "cell_type": "code",
   "execution_count": 1,
   "metadata": {},
   "outputs": [],
   "source": [
    "import pandas as pd\n",
    "import numpy as np"
   ]
  },
  {
   "cell_type": "code",
   "execution_count": 2,
   "metadata": {},
   "outputs": [],
   "source": [
    "file_name = 'U1S1.TXT'"
   ]
  },
  {
   "cell_type": "code",
   "execution_count": 3,
   "metadata": {},
   "outputs": [
    {
     "data": {
      "text/plain": [
       "array([], dtype=float64)"
      ]
     },
     "execution_count": 3,
     "metadata": {},
     "output_type": "execute_result"
    }
   ],
   "source": [
    "list_df = []\n",
    "np.array(list_df)\n",
    "list_size = []\n",
    "np.array(list_size)"
   ]
  },
  {
   "cell_type": "markdown",
   "metadata": {},
   "source": [
    "## COMBINING ALL THE FILES INTO ONE LIST"
   ]
  },
  {
   "cell_type": "code",
   "execution_count": 4,
   "metadata": {},
   "outputs": [],
   "source": [
    "count = 0\n",
    "for i in range(1,41):\n",
    "    for j in range(1, 41):\n",
    "        file_name = 'U'+str(i)+'S'+str(j)+'.txt'\n",
    "                \n",
    "        # Reading into a dataframe and appending it to a list\n",
    "        df = pd.read_csv(file_name, delimiter=' ', names=['X', 'Y', 'TS', 'T', 'AZ', 'AL', 'P'], header=None, skiprows=1)\n",
    "        list_df.append(df)\n",
    "        \n",
    "        # Creating list_size of storing number of rows in each file\n",
    "        rows, cols = df.shape\n",
    "        list_size.append(rows)"
   ]
  },
  {
   "cell_type": "markdown",
   "metadata": {},
   "source": [
    "## CONVERTING INTO A LARGE DATAFRAME"
   ]
  },
  {
   "cell_type": "markdown",
   "metadata": {},
   "source": [
    "##### ARRAY FORMAT"
   ]
  },
  {
   "cell_type": "code",
   "execution_count": 5,
   "metadata": {},
   "outputs": [],
   "source": [
    "df_array = np.vstack(list_df)"
   ]
  },
  {
   "cell_type": "markdown",
   "metadata": {},
   "source": [
    "##### CREATING A DATAFRAME"
   ]
  },
  {
   "cell_type": "code",
   "execution_count": 6,
   "metadata": {
    "scrolled": true
   },
   "outputs": [
    {
     "data": {
      "text/html": [
       "<div>\n",
       "<style scoped>\n",
       "    .dataframe tbody tr th:only-of-type {\n",
       "        vertical-align: middle;\n",
       "    }\n",
       "\n",
       "    .dataframe tbody tr th {\n",
       "        vertical-align: top;\n",
       "    }\n",
       "\n",
       "    .dataframe thead th {\n",
       "        text-align: right;\n",
       "    }\n",
       "</style>\n",
       "<table border=\"1\" class=\"dataframe\">\n",
       "  <thead>\n",
       "    <tr style=\"text-align: right;\">\n",
       "      <th></th>\n",
       "      <th>X</th>\n",
       "      <th>Y</th>\n",
       "      <th>TS</th>\n",
       "      <th>T</th>\n",
       "      <th>AZ</th>\n",
       "      <th>AL</th>\n",
       "      <th>P</th>\n",
       "    </tr>\n",
       "  </thead>\n",
       "  <tbody>\n",
       "    <tr>\n",
       "      <th>0</th>\n",
       "      <td>2933</td>\n",
       "      <td>5678</td>\n",
       "      <td>31275775</td>\n",
       "      <td>0</td>\n",
       "      <td>1550</td>\n",
       "      <td>710</td>\n",
       "      <td>439</td>\n",
       "    </tr>\n",
       "    <tr>\n",
       "      <th>1</th>\n",
       "      <td>2933</td>\n",
       "      <td>5678</td>\n",
       "      <td>31275785</td>\n",
       "      <td>1</td>\n",
       "      <td>1480</td>\n",
       "      <td>770</td>\n",
       "      <td>420</td>\n",
       "    </tr>\n",
       "    <tr>\n",
       "      <th>2</th>\n",
       "      <td>3001</td>\n",
       "      <td>5851</td>\n",
       "      <td>31275795</td>\n",
       "      <td>1</td>\n",
       "      <td>1350</td>\n",
       "      <td>830</td>\n",
       "      <td>433</td>\n",
       "    </tr>\n",
       "    <tr>\n",
       "      <th>3</th>\n",
       "      <td>3114</td>\n",
       "      <td>6139</td>\n",
       "      <td>31275805</td>\n",
       "      <td>1</td>\n",
       "      <td>1350</td>\n",
       "      <td>800</td>\n",
       "      <td>422</td>\n",
       "    </tr>\n",
       "    <tr>\n",
       "      <th>4</th>\n",
       "      <td>3217</td>\n",
       "      <td>6198</td>\n",
       "      <td>31275815</td>\n",
       "      <td>1</td>\n",
       "      <td>1350</td>\n",
       "      <td>800</td>\n",
       "      <td>415</td>\n",
       "    </tr>\n",
       "  </tbody>\n",
       "</table>\n",
       "</div>"
      ],
      "text/plain": [
       "      X     Y        TS  T    AZ   AL    P\n",
       "0  2933  5678  31275775  0  1550  710  439\n",
       "1  2933  5678  31275785  1  1480  770  420\n",
       "2  3001  5851  31275795  1  1350  830  433\n",
       "3  3114  6139  31275805  1  1350  800  422\n",
       "4  3217  6198  31275815  1  1350  800  415"
      ]
     },
     "execution_count": 6,
     "metadata": {},
     "output_type": "execute_result"
    }
   ],
   "source": [
    "final_dataset = pd.DataFrame(df_array)\n",
    "final_dataset.columns = ['X', 'Y', 'TS', 'T', 'AZ', 'AL', 'P']\n",
    "final_dataset.head()"
   ]
  },
  {
   "cell_type": "markdown",
   "metadata": {},
   "source": [
    "## ATTRIBUTES CALCULATION\n",
    "### VELOCITY, X_VELOCITY, Y_VELOCITY"
   ]
  },
  {
   "cell_type": "code",
   "execution_count": 7,
   "metadata": {},
   "outputs": [],
   "source": [
    "velocity_array = []\n",
    "x_velocity_array = []\n",
    "y_velocity_array = []"
   ]
  },
  {
   "cell_type": "code",
   "execution_count": 8,
   "metadata": {},
   "outputs": [],
   "source": [
    "distance = 0\n",
    "index = 0\n",
    "count = 0\n",
    "x_distance = 0\n",
    "y_distance = 0"
   ]
  },
  {
   "cell_type": "code",
   "execution_count": 9,
   "metadata": {},
   "outputs": [],
   "source": [
    "for x in list_size:\n",
    "    for i in range(x):\n",
    "        j = i-1\n",
    "        if j >= 0:\n",
    "            distance += ((final_dataset['X'][count+j] - final_dataset['X'][count+i])**2 + (final_dataset['Y'][count+j] - final_dataset['Y'][count+i])**2)**0.5\n",
    "            \n",
    "            x_distance += abs(final_dataset['X'][count+j] - final_dataset['X'][count+i])\n",
    "            \n",
    "            y_distance += abs(final_dataset['Y'][count+j] - final_dataset['Y'][count+i])\n",
    "            \n",
    "            time = final_dataset['TS'][count+x-1] - final_dataset['TS'][count]\n",
    "    count += x\n",
    "    \n",
    "    # velocity calculation\n",
    "    velocity_array.append(float(distance*1000/time))\n",
    "    \n",
    "    # x_velocity calculation\n",
    "    x_velocity_array.append(float(x_distance*1000/time))\n",
    "    \n",
    "    # y_velocity calculation\n",
    "    y_velocity_array.append(float(y_distance*1000/time))"
   ]
  },
  {
   "cell_type": "code",
   "execution_count": 10,
   "metadata": {},
   "outputs": [
    {
     "name": "stdout",
     "output_type": "stream",
     "text": [
      "velocity: [22203.433517655238, 45506.23864695702, 67509.40805412106, 94336.82501540291, 105252.32186288224]\n"
     ]
    }
   ],
   "source": [
    "print('velocity:', velocity_array[:5])"
   ]
  },
  {
   "cell_type": "code",
   "execution_count": 11,
   "metadata": {},
   "outputs": [
    {
     "name": "stdout",
     "output_type": "stream",
     "text": [
      "x_velocity: [11205.445544554455, 22890.939597315435, 34357.36925515055, 48131.44758735441, 54040.680473372784]\n"
     ]
    }
   ],
   "source": [
    "print('x_velocity:', x_velocity_array[:5])"
   ]
  },
  {
   "cell_type": "code",
   "execution_count": 12,
   "metadata": {},
   "outputs": [
    {
     "name": "stdout",
     "output_type": "stream",
     "text": [
      "y_velocity: [16169.14191419142, 33190.43624161074, 48832.01267828843, 67917.63727121464, 75746.30177514793]\n"
     ]
    }
   ],
   "source": [
    "print('y_velocity:', y_velocity_array[:5])"
   ]
  },
  {
   "cell_type": "code",
   "execution_count": null,
   "metadata": {},
   "outputs": [],
   "source": []
  }
 ],
 "metadata": {
  "kernelspec": {
   "display_name": "Python 3",
   "language": "python",
   "name": "python3"
  },
  "language_info": {
   "codemirror_mode": {
    "name": "ipython",
    "version": 3
   },
   "file_extension": ".py",
   "mimetype": "text/x-python",
   "name": "python",
   "nbconvert_exporter": "python",
   "pygments_lexer": "ipython3",
   "version": "3.7.3"
  }
 },
 "nbformat": 4,
 "nbformat_minor": 2
}
