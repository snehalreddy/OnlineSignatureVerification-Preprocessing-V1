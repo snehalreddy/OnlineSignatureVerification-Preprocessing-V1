{
 "cells": [
  {
   "cell_type": "code",
   "execution_count": 5,
   "metadata": {},
   "outputs": [],
   "source": [
    "# This small sample data set contains signature data collected from\n",
    "# five users.  For each user, there are 20 genuine signatures and\n",
    "# 20 skilled forgeries.\n",
    "\n",
    "# Each genuine/forgery signature is stored in a separate text file.\n",
    "# The file names are in the format \"USERx_y.txt\", where x (1..5)\n",
    "# indicates the user and y (1..40) indicates one signature instance\n",
    "# of the corresponding user, with the first 20 (1..20) representing\n",
    "# genuine signatures and the rest (21..40) representing skilled\n",
    "# forgeries provided by the other users.\n",
    "\n",
    "# In each text file, the signature is simply represented as a\n",
    "# sequence of points.  The first line stores a single integer which\n",
    "# is the total number of points in the signature.  Each of the\n",
    "# subsequent lines corresponds to one point characterized by seven\n",
    "# features listed in the following order:\n",
    "\n",
    "#   X-coordinate  - scaled cursor position along the x-axis\n",
    "#   Y-coordinate  - scaled cursor position along the y-axis\n",
    "#   Time stamp    - system time at which the event was posted\n",
    "#   Button status - current button status (0 for pen-up and\n",
    "#                   1 for pen-down)\n",
    "#   Azimuth       - clockwise rotation of cursor about the z-axis\n",
    "#   Altitude      - angle upward toward the positive z-axis\n",
    "#   Pressure      - adjusted state of the normal pressure"
   ]
  },
  {
   "cell_type": "code",
   "execution_count": 1,
   "metadata": {},
   "outputs": [],
   "source": [
    "import pandas as pd\n",
    "import numpy as np"
   ]
  },
  {
   "cell_type": "code",
   "execution_count": 2,
   "metadata": {},
   "outputs": [],
   "source": [
    "file_name = ''"
   ]
  },
  {
   "cell_type": "code",
   "execution_count": 3,
   "metadata": {},
   "outputs": [
    {
     "data": {
      "text/plain": [
       "array([], dtype=float64)"
      ]
     },
     "execution_count": 3,
     "metadata": {},
     "output_type": "execute_result"
    }
   ],
   "source": [
    "list_df = []\n",
    "np.array(list_df)\n",
    "list_size = []\n",
    "np.array(list_size)"
   ]
  },
  {
   "cell_type": "markdown",
   "metadata": {},
   "source": [
    "## COMBINING ALL THE FILES INTO ONE LIST"
   ]
  },
  {
   "cell_type": "code",
   "execution_count": 4,
   "metadata": {},
   "outputs": [],
   "source": [
    "count = 0\n",
    "for i in range(1,41):\n",
    "    for j in range(1, 41):\n",
    "        file_name = 'U'+str(i)+'S'+str(j)+'.txt'\n",
    "                \n",
    "        # Reading into a dataframe and appending it to a list\n",
    "        df = pd.read_csv(file_name, delimiter=' ', names=['X', 'Y', 'TS', 'T', 'AZ', 'AL', 'P'], header=None, skiprows=1)\n",
    "        list_df.append(df)\n",
    "        \n",
    "        # Creating list_size of storing number of rows in each file\n",
    "        rows, cols = df.shape\n",
    "        list_size.append(rows)"
   ]
  },
  {
   "cell_type": "markdown",
   "metadata": {},
   "source": [
    "## CONVERTING INTO A LARGE DATAFRAME"
   ]
  },
  {
   "cell_type": "markdown",
   "metadata": {},
   "source": [
    "##### ARRAY FORMAT"
   ]
  },
  {
   "cell_type": "code",
   "execution_count": 5,
   "metadata": {},
   "outputs": [],
   "source": [
    "df_array = np.vstack(list_df)"
   ]
  },
  {
   "cell_type": "markdown",
   "metadata": {},
   "source": [
    "##### CREATING A DATAFRAME"
   ]
  },
  {
   "cell_type": "code",
   "execution_count": 6,
   "metadata": {
    "scrolled": true
   },
   "outputs": [
    {
     "data": {
      "text/html": [
       "<div>\n",
       "<style scoped>\n",
       "    .dataframe tbody tr th:only-of-type {\n",
       "        vertical-align: middle;\n",
       "    }\n",
       "\n",
       "    .dataframe tbody tr th {\n",
       "        vertical-align: top;\n",
       "    }\n",
       "\n",
       "    .dataframe thead th {\n",
       "        text-align: right;\n",
       "    }\n",
       "</style>\n",
       "<table border=\"1\" class=\"dataframe\">\n",
       "  <thead>\n",
       "    <tr style=\"text-align: right;\">\n",
       "      <th></th>\n",
       "      <th>X</th>\n",
       "      <th>Y</th>\n",
       "      <th>TS</th>\n",
       "      <th>T</th>\n",
       "      <th>AZ</th>\n",
       "      <th>AL</th>\n",
       "      <th>P</th>\n",
       "    </tr>\n",
       "  </thead>\n",
       "  <tbody>\n",
       "    <tr>\n",
       "      <th>0</th>\n",
       "      <td>2933</td>\n",
       "      <td>5678</td>\n",
       "      <td>31275775</td>\n",
       "      <td>0</td>\n",
       "      <td>1550</td>\n",
       "      <td>710</td>\n",
       "      <td>439</td>\n",
       "    </tr>\n",
       "    <tr>\n",
       "      <th>1</th>\n",
       "      <td>2933</td>\n",
       "      <td>5678</td>\n",
       "      <td>31275785</td>\n",
       "      <td>1</td>\n",
       "      <td>1480</td>\n",
       "      <td>770</td>\n",
       "      <td>420</td>\n",
       "    </tr>\n",
       "    <tr>\n",
       "      <th>2</th>\n",
       "      <td>3001</td>\n",
       "      <td>5851</td>\n",
       "      <td>31275795</td>\n",
       "      <td>1</td>\n",
       "      <td>1350</td>\n",
       "      <td>830</td>\n",
       "      <td>433</td>\n",
       "    </tr>\n",
       "    <tr>\n",
       "      <th>3</th>\n",
       "      <td>3114</td>\n",
       "      <td>6139</td>\n",
       "      <td>31275805</td>\n",
       "      <td>1</td>\n",
       "      <td>1350</td>\n",
       "      <td>800</td>\n",
       "      <td>422</td>\n",
       "    </tr>\n",
       "    <tr>\n",
       "      <th>4</th>\n",
       "      <td>3217</td>\n",
       "      <td>6198</td>\n",
       "      <td>31275815</td>\n",
       "      <td>1</td>\n",
       "      <td>1350</td>\n",
       "      <td>800</td>\n",
       "      <td>415</td>\n",
       "    </tr>\n",
       "  </tbody>\n",
       "</table>\n",
       "</div>"
      ],
      "text/plain": [
       "      X     Y        TS  T    AZ   AL    P\n",
       "0  2933  5678  31275775  0  1550  710  439\n",
       "1  2933  5678  31275785  1  1480  770  420\n",
       "2  3001  5851  31275795  1  1350  830  433\n",
       "3  3114  6139  31275805  1  1350  800  422\n",
       "4  3217  6198  31275815  1  1350  800  415"
      ]
     },
     "execution_count": 6,
     "metadata": {},
     "output_type": "execute_result"
    }
   ],
   "source": [
    "final_dataset = pd.DataFrame(df_array)\n",
    "final_dataset.columns = ['X', 'Y', 'TS', 'T', 'AZ', 'AL', 'P']\n",
    "final_dataset.head()"
   ]
  },
  {
   "cell_type": "markdown",
   "metadata": {},
   "source": [
    "## ATTRIBUTES CALCULATION"
   ]
  },
  {
   "cell_type": "code",
   "execution_count": 7,
   "metadata": {},
   "outputs": [],
   "source": [
    "# feature list\n",
    "\n",
    "# dynamic\n",
    "velocity_array = []\n",
    "x_velocity_array = []\n",
    "y_velocity_array = []\n",
    "avg_pressure = []\n",
    "\n",
    "# static\n",
    "avg_x = []\n",
    "avg_y = []"
   ]
  },
  {
   "cell_type": "code",
   "execution_count": 8,
   "metadata": {},
   "outputs": [],
   "source": [
    "distance = 0\n",
    "index = 0\n",
    "count = 0\n",
    "x_distance = 0\n",
    "y_distance = 0\n",
    "pressure = 0\n",
    "\n",
    "temp = 0"
   ]
  },
  {
   "cell_type": "code",
   "execution_count": 9,
   "metadata": {},
   "outputs": [],
   "source": [
    "for x in list_size:\n",
    "    for i in range(x):\n",
    "        j = i-1\n",
    "        if j >= 0:\n",
    "            distance += ((final_dataset['X'][count+j] - final_dataset['X'][count+i])**2 + (final_dataset['Y'][count+j] - final_dataset['Y'][count+i])**2)**0.5\n",
    "            \n",
    "            x_distance += abs(final_dataset['X'][count+j] - final_dataset['X'][count+i])\n",
    "            \n",
    "            y_distance += abs(final_dataset['Y'][count+j] - final_dataset['Y'][count+i])\n",
    "            \n",
    "            time = final_dataset['TS'][count+x-1] - final_dataset['TS'][count]\n",
    "            \n",
    "            pressure += final_dataset['P'][count+i]\n",
    "    count += x\n",
    "    \n",
    "    \n",
    "    # dynamic\n",
    "    # velocity calculation\n",
    "    velocity_array.append(float(distance*1000/time))\n",
    "    \n",
    "    # x_velocity calculation\n",
    "    x_velocity_array.append(float(x_distance*1000/time))\n",
    "    \n",
    "    # y_velocity calculation\n",
    "    y_velocity_array.append(float(y_distance*1000/time))\n",
    "    \n",
    "    # avg_pressure calculation\n",
    "    avg_pressure.append(float(pressure/x))\n",
    "    \n",
    "    \n",
    "    # static\n",
    "    # avg_x calculation\n",
    "    avg_x.append(x_distance/x)\n",
    "\n",
    "    # avg_y calculation\n",
    "    avg_y.append(y_distance/x)\n",
    "    \n",
    "    \n",
    "    \n",
    "    \n",
    "    \n",
    "    # initialization\n",
    "    distance = 0\n",
    "    x_distance = 0\n",
    "    y_distance = 0\n",
    "    time = 0\n",
    "    pressure = 0"
   ]
  },
  {
   "cell_type": "code",
   "execution_count": 10,
   "metadata": {},
   "outputs": [
    {
     "name": "stdout",
     "output_type": "stream",
     "text": [
      "DYNAMIC FEATURES: \n",
      "velocity     : [22203.433517655238, 22930.26429846866, 24527.287240196525, 23457.56298187479, 21381.860569602373]\n",
      "x_velocity   : [11205.445544554455, 11497.48322147651, 12736.133122028526, 12059.068219633944, 11249.260355029586]\n",
      "y_velocity   : [16169.14191419142, 16750.0, 17482.56735340729, 16648.086522462563, 15363.905325443788]\n",
      "avg_pressure : [623.2380952380952, 594.5411764705882, 583.3111111111111, 603.8414634146342, 537.0860215053764]\n",
      "STATIC FEATURES: \n",
      "avg_x : [161.67857142857142, 161.23529411764707, 178.5888888888889, 176.76829268292684, 163.53763440860214]\n",
      "avg_y : [233.29761904761904, 234.89411764705883, 245.14444444444445, 244.03658536585365, 223.3548387096774]\n"
     ]
    }
   ],
   "source": [
    "print('DYNAMIC FEATURES: ')\n",
    "\n",
    "print('velocity     :', velocity_array[:5])\n",
    "\n",
    "print('x_velocity   :', x_velocity_array[:5])\n",
    "\n",
    "print('y_velocity   :', y_velocity_array[:5])\n",
    "\n",
    "print('avg_pressure :', avg_pressure[:5])\n",
    "\n",
    "\n",
    "print('STATIC FEATURES: ')\n",
    "\n",
    "print('avg_x :', avg_x[:5])\n",
    "\n",
    "print('avg_y :', avg_y[:5])"
   ]
  },
  {
   "cell_type": "markdown",
   "metadata": {},
   "source": [
    "## COMBINE IT INTO A FEATURE VECTOR"
   ]
  },
  {
   "cell_type": "code",
   "execution_count": 19,
   "metadata": {},
   "outputs": [],
   "source": [
    "fv_dictionary = {'velocity':velocity_array, 'x_velocity':x_velocity_array, 'y_velocity':y_velocity_array, 'avg_pressure':avg_pressure,\n",
    "                 'avg_x':avg_x, 'avg_y':avg_y}"
   ]
  },
  {
   "cell_type": "code",
   "execution_count": 20,
   "metadata": {},
   "outputs": [],
   "source": [
    "feature_vector = pd.DataFrame(fv_dictionary)"
   ]
  },
  {
   "cell_type": "code",
   "execution_count": 21,
   "metadata": {},
   "outputs": [
    {
     "data": {
      "text/html": [
       "<div>\n",
       "<style scoped>\n",
       "    .dataframe tbody tr th:only-of-type {\n",
       "        vertical-align: middle;\n",
       "    }\n",
       "\n",
       "    .dataframe tbody tr th {\n",
       "        vertical-align: top;\n",
       "    }\n",
       "\n",
       "    .dataframe thead th {\n",
       "        text-align: right;\n",
       "    }\n",
       "</style>\n",
       "<table border=\"1\" class=\"dataframe\">\n",
       "  <thead>\n",
       "    <tr style=\"text-align: right;\">\n",
       "      <th></th>\n",
       "      <th>velocity</th>\n",
       "      <th>x_velocity</th>\n",
       "      <th>y_velocity</th>\n",
       "      <th>avg_pressure</th>\n",
       "      <th>avg_x</th>\n",
       "      <th>avg_y</th>\n",
       "    </tr>\n",
       "  </thead>\n",
       "  <tbody>\n",
       "    <tr>\n",
       "      <th>0</th>\n",
       "      <td>22203.433518</td>\n",
       "      <td>11205.445545</td>\n",
       "      <td>16169.141914</td>\n",
       "      <td>623.238095</td>\n",
       "      <td>161.678571</td>\n",
       "      <td>233.297619</td>\n",
       "    </tr>\n",
       "    <tr>\n",
       "      <th>1</th>\n",
       "      <td>22930.264298</td>\n",
       "      <td>11497.483221</td>\n",
       "      <td>16750.000000</td>\n",
       "      <td>594.541176</td>\n",
       "      <td>161.235294</td>\n",
       "      <td>234.894118</td>\n",
       "    </tr>\n",
       "    <tr>\n",
       "      <th>2</th>\n",
       "      <td>24527.287240</td>\n",
       "      <td>12736.133122</td>\n",
       "      <td>17482.567353</td>\n",
       "      <td>583.311111</td>\n",
       "      <td>178.588889</td>\n",
       "      <td>245.144444</td>\n",
       "    </tr>\n",
       "    <tr>\n",
       "      <th>3</th>\n",
       "      <td>23457.562982</td>\n",
       "      <td>12059.068220</td>\n",
       "      <td>16648.086522</td>\n",
       "      <td>603.841463</td>\n",
       "      <td>176.768293</td>\n",
       "      <td>244.036585</td>\n",
       "    </tr>\n",
       "    <tr>\n",
       "      <th>4</th>\n",
       "      <td>21381.860570</td>\n",
       "      <td>11249.260355</td>\n",
       "      <td>15363.905325</td>\n",
       "      <td>537.086022</td>\n",
       "      <td>163.537634</td>\n",
       "      <td>223.354839</td>\n",
       "    </tr>\n",
       "  </tbody>\n",
       "</table>\n",
       "</div>"
      ],
      "text/plain": [
       "       velocity    x_velocity    y_velocity  avg_pressure       avg_x  \\\n",
       "0  22203.433518  11205.445545  16169.141914    623.238095  161.678571   \n",
       "1  22930.264298  11497.483221  16750.000000    594.541176  161.235294   \n",
       "2  24527.287240  12736.133122  17482.567353    583.311111  178.588889   \n",
       "3  23457.562982  12059.068220  16648.086522    603.841463  176.768293   \n",
       "4  21381.860570  11249.260355  15363.905325    537.086022  163.537634   \n",
       "\n",
       "        avg_y  \n",
       "0  233.297619  \n",
       "1  234.894118  \n",
       "2  245.144444  \n",
       "3  244.036585  \n",
       "4  223.354839  "
      ]
     },
     "execution_count": 21,
     "metadata": {},
     "output_type": "execute_result"
    }
   ],
   "source": [
    "feature_vector.head()"
   ]
  },
  {
   "cell_type": "markdown",
   "metadata": {},
   "source": [
    "## NORMALIZE THE FEATURE VECTOR"
   ]
  },
  {
   "cell_type": "code",
   "execution_count": null,
   "metadata": {},
   "outputs": [],
   "source": []
  }
 ],
 "metadata": {
  "kernelspec": {
   "display_name": "Python 3",
   "language": "python",
   "name": "python3"
  },
  "language_info": {
   "codemirror_mode": {
    "name": "ipython",
    "version": 3
   },
   "file_extension": ".py",
   "mimetype": "text/x-python",
   "name": "python",
   "nbconvert_exporter": "python",
   "pygments_lexer": "ipython3",
   "version": "3.7.3"
  }
 },
 "nbformat": 4,
 "nbformat_minor": 2
}
