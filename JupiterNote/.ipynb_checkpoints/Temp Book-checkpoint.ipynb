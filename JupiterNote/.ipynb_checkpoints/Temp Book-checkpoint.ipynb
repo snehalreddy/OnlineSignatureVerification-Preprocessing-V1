{
 "cells": [
  {
   "cell_type": "markdown",
   "metadata": {},
   "source": [
    "# NumPy Introduction"
   ]
  },
  {
   "cell_type": "code",
   "execution_count": 1,
   "metadata": {},
   "outputs": [],
   "source": [
    "import numpy as np"
   ]
  },
  {
   "cell_type": "code",
   "execution_count": 2,
   "metadata": {},
   "outputs": [],
   "source": [
    "mylist = [1, 2, 3, 4, 5, 6]\n",
    "x = np.array(mylist)"
   ]
  },
  {
   "cell_type": "code",
   "execution_count": 3,
   "metadata": {},
   "outputs": [
    {
     "data": {
      "text/plain": [
       "array([1, 2, 3, 4, 5, 6])"
      ]
     },
     "execution_count": 3,
     "metadata": {},
     "output_type": "execute_result"
    }
   ],
   "source": [
    "x"
   ]
  },
  {
   "cell_type": "code",
   "execution_count": 4,
   "metadata": {},
   "outputs": [
    {
     "data": {
      "text/plain": [
       "array([3, 4, 5, 6, 7, 8])"
      ]
     },
     "execution_count": 4,
     "metadata": {},
     "output_type": "execute_result"
    }
   ],
   "source": [
    "mylist = [3, 4, 5, 6, 7, 8]\n",
    "y = np.array(mylist)\n",
    "y"
   ]
  },
  {
   "cell_type": "code",
   "execution_count": 5,
   "metadata": {},
   "outputs": [
    {
     "name": "stdout",
     "output_type": "stream",
     "text": [
      "[[1 2 3 4 5 6]\n",
      " [4 5 6 4 5 6]]\n"
     ]
    }
   ],
   "source": [
    "z = np.array([[1, 2, 3, 4, 5, 6], [4, 5, 6, 4, 5, 6]])\n",
    "print(z)"
   ]
  },
  {
   "cell_type": "code",
   "execution_count": 6,
   "metadata": {},
   "outputs": [
    {
     "data": {
      "text/plain": [
       "(2, 6)"
      ]
     },
     "execution_count": 6,
     "metadata": {},
     "output_type": "execute_result"
    }
   ],
   "source": [
    "np.shape(z)"
   ]
  },
  {
   "cell_type": "code",
   "execution_count": 7,
   "metadata": {},
   "outputs": [
    {
     "data": {
      "text/plain": [
       "array([  0,  10,  20,  30,  40,  50,  60,  70,  80,  90, 100, 110, 120,\n",
       "       130, 140, 150, 160, 170, 180, 190, 200, 210, 220, 230, 240, 250,\n",
       "       260, 270, 280, 290, 300, 310, 320, 330, 340, 350, 360, 370, 380,\n",
       "       390, 400, 410, 420, 430, 440, 450, 460, 470, 480, 490, 500, 510,\n",
       "       520, 530, 540, 550, 560, 570, 580, 590, 600, 610, 620, 630, 640,\n",
       "       650, 660, 670, 680, 690, 700, 710, 720, 730, 740, 750, 760, 770,\n",
       "       780, 790, 800, 810, 820, 830, 840, 850, 860, 870, 880, 890, 900,\n",
       "       910, 920, 930, 940, 950, 960, 970, 980, 990])"
      ]
     },
     "execution_count": 7,
     "metadata": {},
     "output_type": "execute_result"
    }
   ],
   "source": [
    "a = np.arange(0, 1000, 10)\n",
    "a"
   ]
  },
  {
   "cell_type": "code",
   "execution_count": 8,
   "metadata": {},
   "outputs": [],
   "source": [
    "a = a.reshape(25, 4)"
   ]
  },
  {
   "cell_type": "code",
   "execution_count": 9,
   "metadata": {},
   "outputs": [
    {
     "data": {
      "text/plain": [
       "array([[  0,  10,  20,  30],\n",
       "       [ 40,  50,  60,  70],\n",
       "       [ 80,  90, 100, 110],\n",
       "       [120, 130, 140, 150],\n",
       "       [160, 170, 180, 190],\n",
       "       [200, 210, 220, 230],\n",
       "       [240, 250, 260, 270],\n",
       "       [280, 290, 300, 310],\n",
       "       [320, 330, 340, 350],\n",
       "       [360, 370, 380, 390],\n",
       "       [400, 410, 420, 430],\n",
       "       [440, 450, 460, 470],\n",
       "       [480, 490, 500, 510],\n",
       "       [520, 530, 540, 550],\n",
       "       [560, 570, 580, 590],\n",
       "       [600, 610, 620, 630],\n",
       "       [640, 650, 660, 670],\n",
       "       [680, 690, 700, 710],\n",
       "       [720, 730, 740, 750],\n",
       "       [760, 770, 780, 790],\n",
       "       [800, 810, 820, 830],\n",
       "       [840, 850, 860, 870],\n",
       "       [880, 890, 900, 910],\n",
       "       [920, 930, 940, 950],\n",
       "       [960, 970, 980, 990]])"
      ]
     },
     "execution_count": 9,
     "metadata": {},
     "output_type": "execute_result"
    }
   ],
   "source": [
    "a"
   ]
  },
  {
   "cell_type": "code",
   "execution_count": 10,
   "metadata": {},
   "outputs": [
    {
     "data": {
      "text/plain": [
       "array([  0.        ,  10.09090909,  20.18181818,  30.27272727,\n",
       "        40.36363636,  50.45454545,  60.54545455,  70.63636364,\n",
       "        80.72727273,  90.81818182, 100.90909091, 111.        ,\n",
       "       121.09090909, 131.18181818, 141.27272727, 151.36363636,\n",
       "       161.45454545, 171.54545455, 181.63636364, 191.72727273,\n",
       "       201.81818182, 211.90909091, 222.        , 232.09090909,\n",
       "       242.18181818, 252.27272727, 262.36363636, 272.45454545,\n",
       "       282.54545455, 292.63636364, 302.72727273, 312.81818182,\n",
       "       322.90909091, 333.        , 343.09090909, 353.18181818,\n",
       "       363.27272727, 373.36363636, 383.45454545, 393.54545455,\n",
       "       403.63636364, 413.72727273, 423.81818182, 433.90909091,\n",
       "       444.        , 454.09090909, 464.18181818, 474.27272727,\n",
       "       484.36363636, 494.45454545, 504.54545455, 514.63636364,\n",
       "       524.72727273, 534.81818182, 544.90909091, 555.        ,\n",
       "       565.09090909, 575.18181818, 585.27272727, 595.36363636,\n",
       "       605.45454545, 615.54545455, 625.63636364, 635.72727273,\n",
       "       645.81818182, 655.90909091, 666.        , 676.09090909,\n",
       "       686.18181818, 696.27272727, 706.36363636, 716.45454545,\n",
       "       726.54545455, 736.63636364, 746.72727273, 756.81818182,\n",
       "       766.90909091, 777.        , 787.09090909, 797.18181818,\n",
       "       807.27272727, 817.36363636, 827.45454545, 837.54545455,\n",
       "       847.63636364, 857.72727273, 867.81818182, 877.90909091,\n",
       "       888.        , 898.09090909, 908.18181818, 918.27272727,\n",
       "       928.36363636, 938.45454545, 948.54545455, 958.63636364,\n",
       "       968.72727273, 978.81818182, 988.90909091, 999.        ])"
      ]
     },
     "execution_count": 10,
     "metadata": {},
     "output_type": "execute_result"
    }
   ],
   "source": [
    "o = np.linspace(0, 999, 100)\n",
    "o"
   ]
  },
  {
   "cell_type": "code",
   "execution_count": 11,
   "metadata": {},
   "outputs": [
    {
     "data": {
      "text/plain": [
       "(100,)"
      ]
     },
     "execution_count": 11,
     "metadata": {},
     "output_type": "execute_result"
    }
   ],
   "source": [
    "np.shape(o)"
   ]
  },
  {
   "cell_type": "code",
   "execution_count": 12,
   "metadata": {},
   "outputs": [],
   "source": [
    "o.resize(10, 10)"
   ]
  },
  {
   "cell_type": "code",
   "execution_count": 13,
   "metadata": {},
   "outputs": [
    {
     "data": {
      "text/plain": [
       "array([[  0.        ,  10.09090909,  20.18181818,  30.27272727,\n",
       "         40.36363636,  50.45454545,  60.54545455,  70.63636364,\n",
       "         80.72727273,  90.81818182],\n",
       "       [100.90909091, 111.        , 121.09090909, 131.18181818,\n",
       "        141.27272727, 151.36363636, 161.45454545, 171.54545455,\n",
       "        181.63636364, 191.72727273],\n",
       "       [201.81818182, 211.90909091, 222.        , 232.09090909,\n",
       "        242.18181818, 252.27272727, 262.36363636, 272.45454545,\n",
       "        282.54545455, 292.63636364],\n",
       "       [302.72727273, 312.81818182, 322.90909091, 333.        ,\n",
       "        343.09090909, 353.18181818, 363.27272727, 373.36363636,\n",
       "        383.45454545, 393.54545455],\n",
       "       [403.63636364, 413.72727273, 423.81818182, 433.90909091,\n",
       "        444.        , 454.09090909, 464.18181818, 474.27272727,\n",
       "        484.36363636, 494.45454545],\n",
       "       [504.54545455, 514.63636364, 524.72727273, 534.81818182,\n",
       "        544.90909091, 555.        , 565.09090909, 575.18181818,\n",
       "        585.27272727, 595.36363636],\n",
       "       [605.45454545, 615.54545455, 625.63636364, 635.72727273,\n",
       "        645.81818182, 655.90909091, 666.        , 676.09090909,\n",
       "        686.18181818, 696.27272727],\n",
       "       [706.36363636, 716.45454545, 726.54545455, 736.63636364,\n",
       "        746.72727273, 756.81818182, 766.90909091, 777.        ,\n",
       "        787.09090909, 797.18181818],\n",
       "       [807.27272727, 817.36363636, 827.45454545, 837.54545455,\n",
       "        847.63636364, 857.72727273, 867.81818182, 877.90909091,\n",
       "        888.        , 898.09090909],\n",
       "       [908.18181818, 918.27272727, 928.36363636, 938.45454545,\n",
       "        948.54545455, 958.63636364, 968.72727273, 978.81818182,\n",
       "        988.90909091, 999.        ]])"
      ]
     },
     "execution_count": 13,
     "metadata": {},
     "output_type": "execute_result"
    }
   ],
   "source": [
    "o"
   ]
  },
  {
   "cell_type": "code",
   "execution_count": 14,
   "metadata": {},
   "outputs": [
    {
     "data": {
      "text/plain": [
       "array([[1., 1., 1.],\n",
       "       [1., 1., 1.]])"
      ]
     },
     "execution_count": 14,
     "metadata": {},
     "output_type": "execute_result"
    }
   ],
   "source": [
    "np.ones((2, 3))"
   ]
  },
  {
   "cell_type": "markdown",
   "metadata": {},
   "source": [
    "# Pandas"
   ]
  },
  {
   "cell_type": "code",
   "execution_count": 15,
   "metadata": {},
   "outputs": [],
   "source": [
    "import pandas as pd"
   ]
  },
  {
   "cell_type": "code",
   "execution_count": 16,
   "metadata": {},
   "outputs": [],
   "source": [
    "pd.Series?"
   ]
  },
  {
   "cell_type": "code",
   "execution_count": 17,
   "metadata": {},
   "outputs": [],
   "source": [
    "animals = ['Tiger', 'Lion', 'Bear', 'Chimpanzee']"
   ]
  },
  {
   "cell_type": "code",
   "execution_count": 18,
   "metadata": {},
   "outputs": [
    {
     "data": {
      "text/plain": [
       "0         Tiger\n",
       "1          Lion\n",
       "2          Bear\n",
       "3    Chimpanzee\n",
       "dtype: object"
      ]
     },
     "execution_count": 18,
     "metadata": {},
     "output_type": "execute_result"
    }
   ],
   "source": [
    "pd.Series(animals)"
   ]
  },
  {
   "cell_type": "code",
   "execution_count": 19,
   "metadata": {},
   "outputs": [
    {
     "data": {
      "text/plain": [
       "0    1\n",
       "1    2\n",
       "2    3\n",
       "3    4\n",
       "4    5\n",
       "dtype: int64"
      ]
     },
     "execution_count": 19,
     "metadata": {},
     "output_type": "execute_result"
    }
   ],
   "source": [
    "numbers = [1, 2, 3, 4, 5]\n",
    "pd.Series(numbers)"
   ]
  },
  {
   "cell_type": "code",
   "execution_count": 20,
   "metadata": {},
   "outputs": [
    {
     "data": {
      "text/plain": [
       "False"
      ]
     },
     "execution_count": 20,
     "metadata": {},
     "output_type": "execute_result"
    }
   ],
   "source": [
    "np.nan == None"
   ]
  },
  {
   "cell_type": "code",
   "execution_count": 21,
   "metadata": {},
   "outputs": [
    {
     "data": {
      "text/plain": [
       "True"
      ]
     },
     "execution_count": 21,
     "metadata": {},
     "output_type": "execute_result"
    }
   ],
   "source": [
    "np.isnan(np.nan)"
   ]
  },
  {
   "cell_type": "code",
   "execution_count": null,
   "metadata": {},
   "outputs": [],
   "source": []
  }
 ],
 "metadata": {
  "kernelspec": {
   "display_name": "Python 3",
   "language": "python",
   "name": "python3"
  },
  "language_info": {
   "codemirror_mode": {
    "name": "ipython",
    "version": 3
   },
   "file_extension": ".py",
   "mimetype": "text/x-python",
   "name": "python",
   "nbconvert_exporter": "python",
   "pygments_lexer": "ipython3",
   "version": "3.7.3"
  }
 },
 "nbformat": 4,
 "nbformat_minor": 2
}
